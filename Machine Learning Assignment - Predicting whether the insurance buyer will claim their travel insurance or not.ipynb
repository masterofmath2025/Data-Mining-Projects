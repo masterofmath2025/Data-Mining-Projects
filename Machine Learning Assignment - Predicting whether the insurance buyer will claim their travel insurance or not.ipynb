{
 "cells": [
  {
   "cell_type": "markdown",
   "metadata": {},
   "source": [
    "# Machine Learning Assignment - Predicting whether the insurance buyer will claim their travel insurance or not"
   ]
  },
  {
   "cell_type": "markdown",
   "metadata": {},
   "source": [
    "## 1. Data Loading and Pre-processing"
   ]
  },
  {
   "cell_type": "markdown",
   "metadata": {},
   "source": [
    "Loading the relevant libraries that I will be starting with:"
   ]
  },
  {
   "cell_type": "code",
   "execution_count": 1,
   "metadata": {},
   "outputs": [],
   "source": [
    "import numpy as np\n",
    "import pandas as pd\n",
    "import matplotlib.pyplot as plt\n",
    "%matplotlib inline"
   ]
  },
  {
   "cell_type": "markdown",
   "metadata": {},
   "source": [
    "Reading the data stored in Downloads folder"
   ]
  },
  {
   "cell_type": "code",
   "execution_count": 2,
   "metadata": {},
   "outputs": [],
   "source": [
    "data  = pd.read_csv(\"https://raw.githubusercontent.com/dphi-official/Datasets/master/travel_insurance/Training_set_label.csv\" )"
   ]
  },
  {
   "cell_type": "code",
   "execution_count": 3,
   "metadata": {},
   "outputs": [],
   "source": [
    "test_data = pd.read_csv('https://raw.githubusercontent.com/dphi-official/Datasets/master/travel_insurance/Testing_set_label.csv')"
   ]
  },
  {
   "cell_type": "code",
   "execution_count": 4,
   "metadata": {},
   "outputs": [],
   "source": [
    "A = set(data['Destination'].unique())\n",
    "B = set(test_data['Destination'].unique())\n",
    "Total_Dest = pd.Series(list(A.union(B)))"
   ]
  },
  {
   "cell_type": "code",
   "execution_count": 5,
   "metadata": {},
   "outputs": [
    {
     "data": {
      "text/html": [
       "<div>\n",
       "<style scoped>\n",
       "    .dataframe tbody tr th:only-of-type {\n",
       "        vertical-align: middle;\n",
       "    }\n",
       "\n",
       "    .dataframe tbody tr th {\n",
       "        vertical-align: top;\n",
       "    }\n",
       "\n",
       "    .dataframe thead th {\n",
       "        text-align: right;\n",
       "    }\n",
       "</style>\n",
       "<table border=\"1\" class=\"dataframe\">\n",
       "  <thead>\n",
       "    <tr style=\"text-align: right;\">\n",
       "      <th></th>\n",
       "      <th>Agency</th>\n",
       "      <th>Agency Type</th>\n",
       "      <th>Distribution Channel</th>\n",
       "      <th>Product Name</th>\n",
       "      <th>Duration</th>\n",
       "      <th>Destination</th>\n",
       "      <th>Net Sales</th>\n",
       "      <th>Commision (in value)</th>\n",
       "      <th>Gender</th>\n",
       "      <th>Age</th>\n",
       "      <th>Claim</th>\n",
       "    </tr>\n",
       "  </thead>\n",
       "  <tbody>\n",
       "    <tr>\n",
       "      <th>0</th>\n",
       "      <td>CWT</td>\n",
       "      <td>Travel Agency</td>\n",
       "      <td>Online</td>\n",
       "      <td>Rental Vehicle Excess Insurance</td>\n",
       "      <td>61</td>\n",
       "      <td>UNITED KINGDOM</td>\n",
       "      <td>19.8</td>\n",
       "      <td>11.88</td>\n",
       "      <td>NaN</td>\n",
       "      <td>29</td>\n",
       "      <td>0</td>\n",
       "    </tr>\n",
       "    <tr>\n",
       "      <th>1</th>\n",
       "      <td>EPX</td>\n",
       "      <td>Travel Agency</td>\n",
       "      <td>Online</td>\n",
       "      <td>Cancellation Plan</td>\n",
       "      <td>93</td>\n",
       "      <td>NEW ZEALAND</td>\n",
       "      <td>63.0</td>\n",
       "      <td>0.00</td>\n",
       "      <td>NaN</td>\n",
       "      <td>36</td>\n",
       "      <td>0</td>\n",
       "    </tr>\n",
       "    <tr>\n",
       "      <th>2</th>\n",
       "      <td>EPX</td>\n",
       "      <td>Travel Agency</td>\n",
       "      <td>Online</td>\n",
       "      <td>2 way Comprehensive Plan</td>\n",
       "      <td>22</td>\n",
       "      <td>UNITED STATES</td>\n",
       "      <td>22.0</td>\n",
       "      <td>0.00</td>\n",
       "      <td>NaN</td>\n",
       "      <td>25</td>\n",
       "      <td>0</td>\n",
       "    </tr>\n",
       "    <tr>\n",
       "      <th>3</th>\n",
       "      <td>C2B</td>\n",
       "      <td>Airlines</td>\n",
       "      <td>Online</td>\n",
       "      <td>Silver Plan</td>\n",
       "      <td>14</td>\n",
       "      <td>SINGAPORE</td>\n",
       "      <td>54.5</td>\n",
       "      <td>13.63</td>\n",
       "      <td>M</td>\n",
       "      <td>24</td>\n",
       "      <td>0</td>\n",
       "    </tr>\n",
       "    <tr>\n",
       "      <th>4</th>\n",
       "      <td>EPX</td>\n",
       "      <td>Travel Agency</td>\n",
       "      <td>Online</td>\n",
       "      <td>Cancellation Plan</td>\n",
       "      <td>90</td>\n",
       "      <td>VIET NAM</td>\n",
       "      <td>10.0</td>\n",
       "      <td>0.00</td>\n",
       "      <td>NaN</td>\n",
       "      <td>23</td>\n",
       "      <td>0</td>\n",
       "    </tr>\n",
       "  </tbody>\n",
       "</table>\n",
       "</div>"
      ],
      "text/plain": [
       "  Agency    Agency Type Distribution Channel                     Product Name  \\\n",
       "0    CWT  Travel Agency               Online  Rental Vehicle Excess Insurance   \n",
       "1    EPX  Travel Agency               Online                Cancellation Plan   \n",
       "2    EPX  Travel Agency               Online         2 way Comprehensive Plan   \n",
       "3    C2B       Airlines               Online                      Silver Plan   \n",
       "4    EPX  Travel Agency               Online                Cancellation Plan   \n",
       "\n",
       "   Duration     Destination  Net Sales  Commision (in value) Gender  Age  \\\n",
       "0        61  UNITED KINGDOM       19.8                 11.88    NaN   29   \n",
       "1        93     NEW ZEALAND       63.0                  0.00    NaN   36   \n",
       "2        22   UNITED STATES       22.0                  0.00    NaN   25   \n",
       "3        14       SINGAPORE       54.5                 13.63      M   24   \n",
       "4        90        VIET NAM       10.0                  0.00    NaN   23   \n",
       "\n",
       "   Claim  \n",
       "0      0  \n",
       "1      0  \n",
       "2      0  \n",
       "3      0  \n",
       "4      0  "
      ]
     },
     "execution_count": 5,
     "metadata": {},
     "output_type": "execute_result"
    }
   ],
   "source": [
    "data.head()"
   ]
  },
  {
   "cell_type": "code",
   "execution_count": 6,
   "metadata": {},
   "outputs": [
    {
     "data": {
      "text/plain": [
       "-389.0"
      ]
     },
     "execution_count": 6,
     "metadata": {},
     "output_type": "execute_result"
    }
   ],
   "source": [
    "data['Net Sales'].min()"
   ]
  },
  {
   "cell_type": "markdown",
   "metadata": {},
   "source": [
    "### Unique Counts:"
   ]
  },
  {
   "cell_type": "code",
   "execution_count": 7,
   "metadata": {},
   "outputs": [
    {
     "name": "stdout",
     "output_type": "stream",
     "text": [
      "EPX    26712\n",
      "CWT     6572\n",
      "C2B     6280\n",
      "JZI     4851\n",
      "SSI      807\n",
      "JWT      580\n",
      "RAB      577\n",
      "LWC      532\n",
      "TST      389\n",
      "KML      293\n",
      "ART      248\n",
      "CCR      155\n",
      "TTW       72\n",
      "CBH       70\n",
      "CSR       66\n",
      "ADM       56\n",
      "Name: Agency, dtype: int64\n",
      "Length:  16\n"
     ]
    }
   ],
   "source": [
    "print(data['Agency'].value_counts())\n",
    "print(\"Length: \", len(data['Agency'].value_counts()))"
   ]
  },
  {
   "cell_type": "code",
   "execution_count": 8,
   "metadata": {},
   "outputs": [
    {
     "data": {
      "text/plain": [
       "Travel Agency    34917\n",
       "Airlines         13343\n",
       "Name: Agency Type, dtype: int64"
      ]
     },
     "execution_count": 8,
     "metadata": {},
     "output_type": "execute_result"
    }
   ],
   "source": [
    "data['Agency Type'].value_counts()"
   ]
  },
  {
   "cell_type": "code",
   "execution_count": 9,
   "metadata": {},
   "outputs": [
    {
     "data": {
      "text/plain": [
       "Online     47434\n",
       "Offline      826\n",
       "Name: Distribution Channel, dtype: int64"
      ]
     },
     "execution_count": 9,
     "metadata": {},
     "output_type": "execute_result"
    }
   ],
   "source": [
    "data['Distribution Channel'].value_counts()"
   ]
  },
  {
   "cell_type": "code",
   "execution_count": 10,
   "metadata": {},
   "outputs": [
    {
     "name": "stdout",
     "output_type": "stream",
     "text": [
      "Cancellation Plan                       14202\n",
      "2 way Comprehensive Plan                10000\n",
      "Rental Vehicle Excess Insurance          6572\n",
      "Basic Plan                               4209\n",
      "Bronze Plan                              3057\n",
      "1 way Comprehensive Plan                 2510\n",
      "Value Plan                               2082\n",
      "Silver Plan                              1705\n",
      "Annual Silver Plan                       1088\n",
      "Ticket Protector                          807\n",
      "Travel Cruise Protect                     388\n",
      "Comprehensive Plan                        279\n",
      "Gold Plan                                 279\n",
      "24 Protect                                183\n",
      "Single Trip Travel Protect Gold           156\n",
      "Annual Gold Plan                          151\n",
      "Single Trip Travel Protect Silver         146\n",
      "Premier Plan                              143\n",
      "Annual Travel Protect Gold                 77\n",
      "Annual Travel Protect Silver               64\n",
      "Individual Comprehensive Plan              53\n",
      "Single Trip Travel Protect Platinum        53\n",
      "Annual Travel Protect Platinum             36\n",
      "Spouse or Parents Comprehensive Plan       12\n",
      "Child Comprehensive Plan                    7\n",
      "Travel Cruise Protect Family                1\n",
      "Name: Product Name, dtype: int64\n",
      "Length:  26\n"
     ]
    }
   ],
   "source": [
    "print(data['Product Name'].value_counts())\n",
    "print(\"Length: \", len(data['Product Name'].value_counts()))"
   ]
  },
  {
   "cell_type": "code",
   "execution_count": 11,
   "metadata": {},
   "outputs": [
    {
     "name": "stdout",
     "output_type": "stream",
     "text": [
      "SINGAPORE             10068\n",
      "THAILAND               4509\n",
      "MALAYSIA               4479\n",
      "CHINA                  3642\n",
      "AUSTRALIA              2807\n",
      "                      ...  \n",
      "SEYCHELLES                1\n",
      "LATVIA                    1\n",
      "ALBANIA                   1\n",
      "DOMINICAN REPUBLIC        1\n",
      "GUYANA                    1\n",
      "Name: Destination, Length: 141, dtype: int64\n",
      "Length:  141\n"
     ]
    }
   ],
   "source": [
    "print(data['Destination'].value_counts())\n",
    "print(\"Length: \", len(data['Destination'].value_counts()))"
   ]
  },
  {
   "cell_type": "code",
   "execution_count": 12,
   "metadata": {},
   "outputs": [
    {
     "name": "stdout",
     "output_type": "stream",
     "text": [
      "M    7137\n",
      "F    6762\n",
      "Name: Gender, dtype: int64\n",
      "Length:  2\n"
     ]
    }
   ],
   "source": [
    "print(data['Gender'].value_counts())\n",
    "print(\"Length: \", len(data['Gender'].value_counts()))"
   ]
  },
  {
   "cell_type": "code",
   "execution_count": 13,
   "metadata": {},
   "outputs": [
    {
     "name": "stdout",
     "output_type": "stream",
     "text": [
      "0    47552\n",
      "1      708\n",
      "Name: Claim, dtype: int64\n",
      "Length:  2\n"
     ]
    }
   ],
   "source": [
    "print(data['Claim'].value_counts())\n",
    "print(\"Length: \", len(data['Claim'].value_counts()))    ### Prediction Cloumn"
   ]
  },
  {
   "cell_type": "markdown",
   "metadata": {},
   "source": [
    "A quick overview of the data:"
   ]
  },
  {
   "cell_type": "code",
   "execution_count": 14,
   "metadata": {
    "scrolled": true
   },
   "outputs": [
    {
     "name": "stdout",
     "output_type": "stream",
     "text": [
      "<class 'pandas.core.frame.DataFrame'>\n",
      "RangeIndex: 48260 entries, 0 to 48259\n",
      "Data columns (total 11 columns):\n",
      " #   Column                Non-Null Count  Dtype  \n",
      "---  ------                --------------  -----  \n",
      " 0   Agency                48260 non-null  object \n",
      " 1   Agency Type           48260 non-null  object \n",
      " 2   Distribution Channel  48260 non-null  object \n",
      " 3   Product Name          48260 non-null  object \n",
      " 4   Duration              48260 non-null  int64  \n",
      " 5   Destination           48260 non-null  object \n",
      " 6   Net Sales             48260 non-null  float64\n",
      " 7   Commision (in value)  48260 non-null  float64\n",
      " 8   Gender                13899 non-null  object \n",
      " 9   Age                   48260 non-null  int64  \n",
      " 10  Claim                 48260 non-null  int64  \n",
      "dtypes: float64(2), int64(3), object(6)\n",
      "memory usage: 4.1+ MB\n"
     ]
    }
   ],
   "source": [
    "data.info()"
   ]
  },
  {
   "cell_type": "markdown",
   "metadata": {},
   "source": [
    "The data seems to have a lot of missing values in the Gender column."
   ]
  },
  {
   "cell_type": "markdown",
   "metadata": {},
   "source": [
    "First, let's segregate categorical and numerical columns"
   ]
  },
  {
   "cell_type": "code",
   "execution_count": 15,
   "metadata": {},
   "outputs": [],
   "source": [
    "cat_col = ['Agency', 'Agency Type', 'Distribution Channel', 'Product Name', 'Destination', 'Gender']\n",
    "num_col = ['Duration', 'Net Sales', 'Commision (in value)', 'Age']"
   ]
  },
  {
   "cell_type": "markdown",
   "metadata": {},
   "source": [
    "### Data Transformation"
   ]
  },
  {
   "cell_type": "markdown",
   "metadata": {},
   "source": [
    "Beginning with labelling the categorical data in number labels"
   ]
  },
  {
   "cell_type": "code",
   "execution_count": 16,
   "metadata": {},
   "outputs": [],
   "source": [
    "from sklearn.preprocessing import LabelEncoder\n",
    "from collections import defaultdict\n",
    "\n",
    "d = defaultdict(LabelEncoder)"
   ]
  },
  {
   "cell_type": "code",
   "execution_count": 17,
   "metadata": {},
   "outputs": [],
   "source": [
    "df2 = data[['Agency', 'Agency Type', 'Distribution Channel', 'Product Name']]\n",
    "\n",
    "fit = df2.apply(lambda x: d[x.name].fit_transform(x))"
   ]
  },
  {
   "cell_type": "code",
   "execution_count": 18,
   "metadata": {},
   "outputs": [],
   "source": [
    "d['Destination'].fit(np.array(Total_Dest))\n",
    "fit['Destination'] = d['Destination'].transform(data['Destination'])"
   ]
  },
  {
   "cell_type": "code",
   "execution_count": 19,
   "metadata": {},
   "outputs": [],
   "source": [
    "for column in ['Agency', 'Agency Type', 'Distribution Channel', 'Product Name', 'Destination']:\n",
    "    data[column] = fit[column]"
   ]
  },
  {
   "cell_type": "code",
   "execution_count": 20,
   "metadata": {},
   "outputs": [],
   "source": [
    "# # Encoding the variable\n",
    "# fit = data.apply(lambda x: d[x.name].fit_transform(x))\n",
    "\n",
    "# # Inverse the encoded\n",
    "# fit.apply(lambda x: d[x.name].inverse_transform(x))\n",
    "\n",
    "# # Using the dictionary to label future data\n",
    "# df.apply(lambda x: d[x.name].transform(x))"
   ]
  },
  {
   "cell_type": "code",
   "execution_count": 21,
   "metadata": {},
   "outputs": [
    {
     "name": "stdout",
     "output_type": "stream",
     "text": [
      "['ADM' 'ART' 'C2B' 'CBH' 'CCR' 'CSR' 'CWT' 'EPX' 'JWT' 'JZI' 'KML' 'LWC'\n",
      " 'RAB' 'SSI' 'TST' 'TTW']\n",
      "['Airlines' 'Travel Agency']\n",
      "['Offline' 'Online']\n",
      "['1 way Comprehensive Plan' '2 way Comprehensive Plan' '24 Protect'\n",
      " 'Annual Gold Plan' 'Annual Silver Plan' 'Annual Travel Protect Gold'\n",
      " 'Annual Travel Protect Platinum' 'Annual Travel Protect Silver'\n",
      " 'Basic Plan' 'Bronze Plan' 'Cancellation Plan' 'Child Comprehensive Plan'\n",
      " 'Comprehensive Plan' 'Gold Plan' 'Individual Comprehensive Plan'\n",
      " 'Premier Plan' 'Rental Vehicle Excess Insurance' 'Silver Plan'\n",
      " 'Single Trip Travel Protect Gold' 'Single Trip Travel Protect Platinum'\n",
      " 'Single Trip Travel Protect Silver'\n",
      " 'Spouse or Parents Comprehensive Plan' 'Ticket Protector'\n",
      " 'Travel Cruise Protect' 'Travel Cruise Protect Family' 'Value Plan']\n",
      "['ALBANIA' 'ANGOLA' 'ARGENTINA' 'ARMENIA' 'AUSTRALIA' 'AUSTRIA'\n",
      " 'AZERBAIJAN' 'BAHRAIN' 'BANGLADESH' 'BARBADOS' 'BELARUS' 'BELGIUM'\n",
      " 'BENIN' 'BERMUDA' 'BHUTAN' 'BOLIVIA' 'BOSNIA AND HERZEGOVINA' 'BOTSWANA'\n",
      " 'BRAZIL' 'BRUNEI DARUSSALAM' 'BULGARIA' 'CAMBODIA' 'CAMEROON' 'CANADA'\n",
      " 'CAYMAN ISLANDS' 'CHILE' 'CHINA' 'COLOMBIA' 'COSTA RICA' 'CROATIA'\n",
      " 'CYPRUS' 'CZECH REPUBLIC' 'DENMARK' 'DOMINICAN REPUBLIC' 'ECUADOR'\n",
      " 'EGYPT' 'ESTONIA' 'ETHIOPIA' 'FAROE ISLANDS' 'FIJI' 'FINLAND' 'FRANCE'\n",
      " 'FRENCH POLYNESIA' 'GEORGIA' 'GERMANY' 'GHANA' 'GREECE' 'GUADELOUPE'\n",
      " 'GUAM' 'GUATEMALA' 'GUINEA' 'GUINEA-BISSAU' 'GUYANA' 'HONG KONG'\n",
      " 'HUNGARY' 'ICELAND' 'INDIA' 'INDONESIA' 'IRAN, ISLAMIC REPUBLIC OF'\n",
      " 'IRELAND' 'ISRAEL' 'ITALY' 'JAMAICA' 'JAPAN' 'JORDAN' 'KAZAKHSTAN'\n",
      " 'KENYA' \"KOREA, DEMOCRATIC PEOPLE'S REPUBLIC OF\" 'KOREA, REPUBLIC OF'\n",
      " 'KUWAIT' 'KYRGYZSTAN' \"LAO PEOPLE'S DEMOCRATIC REPUBLIC\" 'LATVIA'\n",
      " 'LEBANON' 'LIBYAN ARAB JAMAHIRIYA' 'LITHUANIA' 'LUXEMBOURG' 'MACAO'\n",
      " 'MACEDONIA, THE FORMER YUGOSLAV REPUBLIC OF' 'MALAYSIA' 'MALDIVES' 'MALI'\n",
      " 'MALTA' 'MAURITIUS' 'MEXICO' 'MOLDOVA, REPUBLIC OF' 'MONGOLIA' 'MOROCCO'\n",
      " 'MYANMAR' 'NAMIBIA' 'NEPAL' 'NETHERLANDS' 'NEW CALEDONIA' 'NEW ZEALAND'\n",
      " 'NIGERIA' 'NORTHERN MARIANA ISLANDS' 'NORWAY' 'OMAN' 'PAKISTAN' 'PANAMA'\n",
      " 'PAPUA NEW GUINEA' 'PERU' 'PHILIPPINES' 'POLAND' 'PORTUGAL' 'PUERTO RICO'\n",
      " 'QATAR' 'REPUBLIC OF MONTENEGRO' 'REUNION' 'ROMANIA' 'RUSSIAN FEDERATION'\n",
      " 'RWANDA' 'SAMOA' 'SAUDI ARABIA' 'SENEGAL' 'SERBIA' 'SEYCHELLES'\n",
      " 'SIERRA LEONE' 'SINGAPORE' 'SLOVENIA' 'SOLOMON ISLANDS' 'SOUTH AFRICA'\n",
      " 'SPAIN' 'SRI LANKA' 'SWEDEN' 'SWITZERLAND' 'TAIWAN, PROVINCE OF CHINA'\n",
      " 'TAJIKISTAN' 'TANZANIA, UNITED REPUBLIC OF' 'THAILAND' 'TIBET'\n",
      " 'TRINIDAD AND TOBAGO' 'TUNISIA' 'TURKEY' 'TURKMENISTAN'\n",
      " 'TURKS AND CAICOS ISLANDS' 'UGANDA' 'UKRAINE' 'UNITED ARAB EMIRATES'\n",
      " 'UNITED KINGDOM' 'UNITED STATES' 'URUGUAY' 'UZBEKISTAN' 'VANUATU'\n",
      " 'VENEZUELA' 'VIET NAM' 'VIRGIN ISLANDS, U.S.' 'ZAMBIA' 'ZIMBABWE']\n"
     ]
    }
   ],
   "source": [
    "for col in ['Agency', 'Agency Type', 'Distribution Channel', 'Product Name', 'Destination']:\n",
    "    print(d[col].classes_)"
   ]
  },
  {
   "cell_type": "code",
   "execution_count": 22,
   "metadata": {},
   "outputs": [
    {
     "data": {
      "text/html": [
       "<div>\n",
       "<style scoped>\n",
       "    .dataframe tbody tr th:only-of-type {\n",
       "        vertical-align: middle;\n",
       "    }\n",
       "\n",
       "    .dataframe tbody tr th {\n",
       "        vertical-align: top;\n",
       "    }\n",
       "\n",
       "    .dataframe thead th {\n",
       "        text-align: right;\n",
       "    }\n",
       "</style>\n",
       "<table border=\"1\" class=\"dataframe\">\n",
       "  <thead>\n",
       "    <tr style=\"text-align: right;\">\n",
       "      <th></th>\n",
       "      <th>Agency</th>\n",
       "      <th>Agency Type</th>\n",
       "      <th>Distribution Channel</th>\n",
       "      <th>Product Name</th>\n",
       "      <th>Duration</th>\n",
       "      <th>Destination</th>\n",
       "      <th>Net Sales</th>\n",
       "      <th>Commision (in value)</th>\n",
       "      <th>Gender</th>\n",
       "      <th>Age</th>\n",
       "      <th>Claim</th>\n",
       "    </tr>\n",
       "  </thead>\n",
       "  <tbody>\n",
       "    <tr>\n",
       "      <th>0</th>\n",
       "      <td>6</td>\n",
       "      <td>1</td>\n",
       "      <td>1</td>\n",
       "      <td>16</td>\n",
       "      <td>61</td>\n",
       "      <td>139</td>\n",
       "      <td>19.8</td>\n",
       "      <td>11.88</td>\n",
       "      <td>NaN</td>\n",
       "      <td>29</td>\n",
       "      <td>0</td>\n",
       "    </tr>\n",
       "    <tr>\n",
       "      <th>1</th>\n",
       "      <td>7</td>\n",
       "      <td>1</td>\n",
       "      <td>1</td>\n",
       "      <td>10</td>\n",
       "      <td>93</td>\n",
       "      <td>93</td>\n",
       "      <td>63.0</td>\n",
       "      <td>0.00</td>\n",
       "      <td>NaN</td>\n",
       "      <td>36</td>\n",
       "      <td>0</td>\n",
       "    </tr>\n",
       "    <tr>\n",
       "      <th>2</th>\n",
       "      <td>7</td>\n",
       "      <td>1</td>\n",
       "      <td>1</td>\n",
       "      <td>1</td>\n",
       "      <td>22</td>\n",
       "      <td>140</td>\n",
       "      <td>22.0</td>\n",
       "      <td>0.00</td>\n",
       "      <td>NaN</td>\n",
       "      <td>25</td>\n",
       "      <td>0</td>\n",
       "    </tr>\n",
       "    <tr>\n",
       "      <th>3</th>\n",
       "      <td>2</td>\n",
       "      <td>0</td>\n",
       "      <td>1</td>\n",
       "      <td>17</td>\n",
       "      <td>14</td>\n",
       "      <td>118</td>\n",
       "      <td>54.5</td>\n",
       "      <td>13.63</td>\n",
       "      <td>M</td>\n",
       "      <td>24</td>\n",
       "      <td>0</td>\n",
       "    </tr>\n",
       "    <tr>\n",
       "      <th>4</th>\n",
       "      <td>7</td>\n",
       "      <td>1</td>\n",
       "      <td>1</td>\n",
       "      <td>10</td>\n",
       "      <td>90</td>\n",
       "      <td>145</td>\n",
       "      <td>10.0</td>\n",
       "      <td>0.00</td>\n",
       "      <td>NaN</td>\n",
       "      <td>23</td>\n",
       "      <td>0</td>\n",
       "    </tr>\n",
       "  </tbody>\n",
       "</table>\n",
       "</div>"
      ],
      "text/plain": [
       "   Agency  Agency Type  Distribution Channel  Product Name  Duration  \\\n",
       "0       6            1                     1            16        61   \n",
       "1       7            1                     1            10        93   \n",
       "2       7            1                     1             1        22   \n",
       "3       2            0                     1            17        14   \n",
       "4       7            1                     1            10        90   \n",
       "\n",
       "   Destination  Net Sales  Commision (in value) Gender  Age  Claim  \n",
       "0          139       19.8                 11.88    NaN   29      0  \n",
       "1           93       63.0                  0.00    NaN   36      0  \n",
       "2          140       22.0                  0.00    NaN   25      0  \n",
       "3          118       54.5                 13.63      M   24      0  \n",
       "4          145       10.0                  0.00    NaN   23      0  "
      ]
     },
     "execution_count": 22,
     "metadata": {},
     "output_type": "execute_result"
    }
   ],
   "source": [
    "data.head()"
   ]
  },
  {
   "cell_type": "code",
   "execution_count": 23,
   "metadata": {},
   "outputs": [
    {
     "data": {
      "text/plain": [
       "M    7137\n",
       "F    6762\n",
       "Name: Gender, dtype: int64"
      ]
     },
     "execution_count": 23,
     "metadata": {},
     "output_type": "execute_result"
    }
   ],
   "source": [
    "data['Gender'].value_counts()"
   ]
  },
  {
   "cell_type": "markdown",
   "metadata": {},
   "source": [
    "Encoding the 'Gender' column separately as it has missing values"
   ]
  },
  {
   "cell_type": "code",
   "execution_count": 24,
   "metadata": {},
   "outputs": [
    {
     "data": {
      "text/plain": [
       "0        NaN\n",
       "1        NaN\n",
       "2        NaN\n",
       "3        1.0\n",
       "4        NaN\n",
       "        ... \n",
       "48255    NaN\n",
       "48256    0.0\n",
       "48257    NaN\n",
       "48258    NaN\n",
       "48259    NaN\n",
       "Name: Gender, Length: 48260, dtype: float64"
      ]
     },
     "execution_count": 24,
     "metadata": {},
     "output_type": "execute_result"
    }
   ],
   "source": [
    "def GenderMap(y):\n",
    "    if y=='M':\n",
    "        return np.int(1)\n",
    "    elif y=='F':\n",
    "        return np.int(0)\n",
    "    else: return y\n",
    "\n",
    "data['Gender'] = list(map(lambda x: GenderMap(x), data['Gender']))\n",
    "data['Gender']"
   ]
  },
  {
   "cell_type": "code",
   "execution_count": 25,
   "metadata": {},
   "outputs": [
    {
     "data": {
      "text/plain": [
       "1.0    7137\n",
       "0.0    6762\n",
       "Name: Gender, dtype: int64"
      ]
     },
     "execution_count": 25,
     "metadata": {},
     "output_type": "execute_result"
    }
   ],
   "source": [
    "data['Gender'].value_counts()"
   ]
  },
  {
   "cell_type": "code",
   "execution_count": 26,
   "metadata": {},
   "outputs": [
    {
     "data": {
      "text/html": [
       "<div>\n",
       "<style scoped>\n",
       "    .dataframe tbody tr th:only-of-type {\n",
       "        vertical-align: middle;\n",
       "    }\n",
       "\n",
       "    .dataframe tbody tr th {\n",
       "        vertical-align: top;\n",
       "    }\n",
       "\n",
       "    .dataframe thead th {\n",
       "        text-align: right;\n",
       "    }\n",
       "</style>\n",
       "<table border=\"1\" class=\"dataframe\">\n",
       "  <thead>\n",
       "    <tr style=\"text-align: right;\">\n",
       "      <th></th>\n",
       "      <th>Agency</th>\n",
       "      <th>Agency Type</th>\n",
       "      <th>Distribution Channel</th>\n",
       "      <th>Product Name</th>\n",
       "      <th>Duration</th>\n",
       "      <th>Destination</th>\n",
       "      <th>Net Sales</th>\n",
       "      <th>Commision (in value)</th>\n",
       "      <th>Gender</th>\n",
       "      <th>Age</th>\n",
       "      <th>Claim</th>\n",
       "    </tr>\n",
       "  </thead>\n",
       "  <tbody>\n",
       "    <tr>\n",
       "      <th>22</th>\n",
       "      <td>9</td>\n",
       "      <td>0</td>\n",
       "      <td>1</td>\n",
       "      <td>8</td>\n",
       "      <td>49</td>\n",
       "      <td>63</td>\n",
       "      <td>26.0</td>\n",
       "      <td>9.10</td>\n",
       "      <td>0.0</td>\n",
       "      <td>38</td>\n",
       "      <td>0</td>\n",
       "    </tr>\n",
       "    <tr>\n",
       "      <th>28</th>\n",
       "      <td>2</td>\n",
       "      <td>0</td>\n",
       "      <td>1</td>\n",
       "      <td>4</td>\n",
       "      <td>382</td>\n",
       "      <td>118</td>\n",
       "      <td>193.2</td>\n",
       "      <td>48.30</td>\n",
       "      <td>0.0</td>\n",
       "      <td>76</td>\n",
       "      <td>0</td>\n",
       "    </tr>\n",
       "    <tr>\n",
       "      <th>35</th>\n",
       "      <td>12</td>\n",
       "      <td>0</td>\n",
       "      <td>1</td>\n",
       "      <td>25</td>\n",
       "      <td>5</td>\n",
       "      <td>19</td>\n",
       "      <td>15.0</td>\n",
       "      <td>6.00</td>\n",
       "      <td>0.0</td>\n",
       "      <td>28</td>\n",
       "      <td>0</td>\n",
       "    </tr>\n",
       "    <tr>\n",
       "      <th>40</th>\n",
       "      <td>9</td>\n",
       "      <td>0</td>\n",
       "      <td>1</td>\n",
       "      <td>8</td>\n",
       "      <td>9</td>\n",
       "      <td>129</td>\n",
       "      <td>18.0</td>\n",
       "      <td>6.30</td>\n",
       "      <td>0.0</td>\n",
       "      <td>48</td>\n",
       "      <td>0</td>\n",
       "    </tr>\n",
       "    <tr>\n",
       "      <th>46</th>\n",
       "      <td>2</td>\n",
       "      <td>0</td>\n",
       "      <td>1</td>\n",
       "      <td>9</td>\n",
       "      <td>22</td>\n",
       "      <td>118</td>\n",
       "      <td>23.5</td>\n",
       "      <td>5.88</td>\n",
       "      <td>0.0</td>\n",
       "      <td>31</td>\n",
       "      <td>0</td>\n",
       "    </tr>\n",
       "    <tr>\n",
       "      <th>...</th>\n",
       "      <td>...</td>\n",
       "      <td>...</td>\n",
       "      <td>...</td>\n",
       "      <td>...</td>\n",
       "      <td>...</td>\n",
       "      <td>...</td>\n",
       "      <td>...</td>\n",
       "      <td>...</td>\n",
       "      <td>...</td>\n",
       "      <td>...</td>\n",
       "      <td>...</td>\n",
       "    </tr>\n",
       "    <tr>\n",
       "      <th>48245</th>\n",
       "      <td>8</td>\n",
       "      <td>0</td>\n",
       "      <td>1</td>\n",
       "      <td>25</td>\n",
       "      <td>75</td>\n",
       "      <td>56</td>\n",
       "      <td>124.0</td>\n",
       "      <td>49.60</td>\n",
       "      <td>0.0</td>\n",
       "      <td>118</td>\n",
       "      <td>0</td>\n",
       "    </tr>\n",
       "    <tr>\n",
       "      <th>48246</th>\n",
       "      <td>2</td>\n",
       "      <td>0</td>\n",
       "      <td>1</td>\n",
       "      <td>17</td>\n",
       "      <td>12</td>\n",
       "      <td>118</td>\n",
       "      <td>42.0</td>\n",
       "      <td>10.50</td>\n",
       "      <td>0.0</td>\n",
       "      <td>23</td>\n",
       "      <td>0</td>\n",
       "    </tr>\n",
       "    <tr>\n",
       "      <th>48247</th>\n",
       "      <td>9</td>\n",
       "      <td>0</td>\n",
       "      <td>1</td>\n",
       "      <td>8</td>\n",
       "      <td>9</td>\n",
       "      <td>79</td>\n",
       "      <td>18.0</td>\n",
       "      <td>6.30</td>\n",
       "      <td>0.0</td>\n",
       "      <td>45</td>\n",
       "      <td>0</td>\n",
       "    </tr>\n",
       "    <tr>\n",
       "      <th>48248</th>\n",
       "      <td>2</td>\n",
       "      <td>0</td>\n",
       "      <td>1</td>\n",
       "      <td>17</td>\n",
       "      <td>15</td>\n",
       "      <td>118</td>\n",
       "      <td>29.0</td>\n",
       "      <td>7.25</td>\n",
       "      <td>0.0</td>\n",
       "      <td>75</td>\n",
       "      <td>0</td>\n",
       "    </tr>\n",
       "    <tr>\n",
       "      <th>48256</th>\n",
       "      <td>2</td>\n",
       "      <td>0</td>\n",
       "      <td>1</td>\n",
       "      <td>9</td>\n",
       "      <td>20</td>\n",
       "      <td>118</td>\n",
       "      <td>60.0</td>\n",
       "      <td>15.00</td>\n",
       "      <td>0.0</td>\n",
       "      <td>30</td>\n",
       "      <td>0</td>\n",
       "    </tr>\n",
       "  </tbody>\n",
       "</table>\n",
       "<p>6762 rows × 11 columns</p>\n",
       "</div>"
      ],
      "text/plain": [
       "       Agency  Agency Type  Distribution Channel  Product Name  Duration  \\\n",
       "22          9            0                     1             8        49   \n",
       "28          2            0                     1             4       382   \n",
       "35         12            0                     1            25         5   \n",
       "40          9            0                     1             8         9   \n",
       "46          2            0                     1             9        22   \n",
       "...       ...          ...                   ...           ...       ...   \n",
       "48245       8            0                     1            25        75   \n",
       "48246       2            0                     1            17        12   \n",
       "48247       9            0                     1             8         9   \n",
       "48248       2            0                     1            17        15   \n",
       "48256       2            0                     1             9        20   \n",
       "\n",
       "       Destination  Net Sales  Commision (in value)  Gender  Age  Claim  \n",
       "22              63       26.0                  9.10     0.0   38      0  \n",
       "28             118      193.2                 48.30     0.0   76      0  \n",
       "35              19       15.0                  6.00     0.0   28      0  \n",
       "40             129       18.0                  6.30     0.0   48      0  \n",
       "46             118       23.5                  5.88     0.0   31      0  \n",
       "...            ...        ...                   ...     ...  ...    ...  \n",
       "48245           56      124.0                 49.60     0.0  118      0  \n",
       "48246          118       42.0                 10.50     0.0   23      0  \n",
       "48247           79       18.0                  6.30     0.0   45      0  \n",
       "48248          118       29.0                  7.25     0.0   75      0  \n",
       "48256          118       60.0                 15.00     0.0   30      0  \n",
       "\n",
       "[6762 rows x 11 columns]"
      ]
     },
     "execution_count": 26,
     "metadata": {},
     "output_type": "execute_result"
    }
   ],
   "source": [
    "data[data['Gender']==0.0]"
   ]
  },
  {
   "cell_type": "markdown",
   "metadata": {},
   "source": [
    "### Dealing with missing values:"
   ]
  },
  {
   "cell_type": "markdown",
   "metadata": {},
   "source": [
    "Checking the no. of missing values in each column:"
   ]
  },
  {
   "cell_type": "code",
   "execution_count": 27,
   "metadata": {},
   "outputs": [
    {
     "data": {
      "text/plain": [
       "Agency                      0\n",
       "Agency Type                 0\n",
       "Distribution Channel        0\n",
       "Product Name                0\n",
       "Duration                    0\n",
       "Destination                 0\n",
       "Net Sales                   0\n",
       "Commision (in value)        0\n",
       "Gender                  34361\n",
       "Age                         0\n",
       "Claim                       0\n",
       "dtype: int64"
      ]
     },
     "execution_count": 27,
     "metadata": {},
     "output_type": "execute_result"
    }
   ],
   "source": [
    "data.apply(lambda x: sum(x.isnull()), axis=0)"
   ]
  },
  {
   "cell_type": "markdown",
   "metadata": {},
   "source": [
    "#### Imputation:"
   ]
  },
  {
   "cell_type": "code",
   "execution_count": 28,
   "metadata": {},
   "outputs": [],
   "source": [
    "imp_data = data.iloc[:,:-1]"
   ]
  },
  {
   "cell_type": "code",
   "execution_count": 29,
   "metadata": {},
   "outputs": [],
   "source": [
    "import numpy as np\n",
    "import pandas as pd\n",
    "from sklearn.impute import KNNImputer\n",
    "from sklearn.preprocessing import MinMaxScaler\n",
    "\n",
    "# df = pd.DataFrame({'A':['a','b','a',np.nan,'a','b','c'] , 'B':[1,2,3,4,6,7,9] , 'C':['q','e',np.nan,'w','w','e','q']})  \n",
    "\n",
    "\n",
    "def find_category_mappings(df, variable):\n",
    "    return {k: i for i, k in enumerate(df[variable].dropna().unique(), 0)}\n",
    "\n",
    "def integer_encode(df , variable, ordinal_mapping):\n",
    "    df[variable] = df[variable].map(ordinal_mapping)\n",
    "\n",
    "mappin = dict()\n",
    "def imputation(df1 , cols):\n",
    "    df = df1.copy()\n",
    "    #Encoding dict &amp; Removing nan    \n",
    "    #mappin = dict()\n",
    "    for variable in cols:\n",
    "        mappings = find_category_mappings(df, variable)\n",
    "        mappin[variable] = mappings\n",
    "\n",
    "    #Apply mapping\n",
    "    for variable in cols:\n",
    "        integer_encode(df, variable, mappin[variable])  \n",
    "\n",
    "    #Minmaxscaler and KNN imputation \n",
    "    mm = MinMaxScaler()\n",
    "    sca = mm.fit_transform(df)\n",
    "    knn_imputer = KNNImputer()\n",
    "    knn = knn_imputer.fit_transform(sca)\n",
    "    df.iloc[:,:] = mm.inverse_transform(knn)\n",
    "    for i in cols : \n",
    "        df[i] = round(df[i]).astype('int')\n",
    "\n",
    "    #Inverse transform\n",
    "    for i in cols:\n",
    "        inv_map = {v: k for k, v in mappin[i].items()}\n",
    "        df[i] = df[i].map(inv_map)\n",
    "    return df, mm, knn_imputer\n",
    "\n",
    "\n",
    "#Imputation\n",
    "D, mm, knn_imputer = imputation(imp_data,['Gender'])\n",
    "data['Gender'] = D['Gender']"
   ]
  },
  {
   "cell_type": "code",
   "execution_count": 30,
   "metadata": {},
   "outputs": [
    {
     "data": {
      "text/plain": [
       "1.0    27566\n",
       "0.0    20694\n",
       "Name: Gender, dtype: int64"
      ]
     },
     "execution_count": 30,
     "metadata": {},
     "output_type": "execute_result"
    }
   ],
   "source": [
    "data['Gender'].value_counts()  ## 0.0  = \"F\"  (0: 24598  ;    1: 23662)\n",
    "                               ## 1.0  = \"M\""
   ]
  },
  {
   "cell_type": "code",
   "execution_count": 31,
   "metadata": {},
   "outputs": [
    {
     "data": {
      "text/html": [
       "<div>\n",
       "<style scoped>\n",
       "    .dataframe tbody tr th:only-of-type {\n",
       "        vertical-align: middle;\n",
       "    }\n",
       "\n",
       "    .dataframe tbody tr th {\n",
       "        vertical-align: top;\n",
       "    }\n",
       "\n",
       "    .dataframe thead th {\n",
       "        text-align: right;\n",
       "    }\n",
       "</style>\n",
       "<table border=\"1\" class=\"dataframe\">\n",
       "  <thead>\n",
       "    <tr style=\"text-align: right;\">\n",
       "      <th></th>\n",
       "      <th>Agency</th>\n",
       "      <th>Agency Type</th>\n",
       "      <th>Distribution Channel</th>\n",
       "      <th>Product Name</th>\n",
       "      <th>Duration</th>\n",
       "      <th>Destination</th>\n",
       "      <th>Net Sales</th>\n",
       "      <th>Commision (in value)</th>\n",
       "      <th>Gender</th>\n",
       "      <th>Age</th>\n",
       "      <th>Claim</th>\n",
       "    </tr>\n",
       "  </thead>\n",
       "  <tbody>\n",
       "    <tr>\n",
       "      <th>0</th>\n",
       "      <td>6</td>\n",
       "      <td>1</td>\n",
       "      <td>1</td>\n",
       "      <td>16</td>\n",
       "      <td>61</td>\n",
       "      <td>139</td>\n",
       "      <td>19.8</td>\n",
       "      <td>11.88</td>\n",
       "      <td>1.0</td>\n",
       "      <td>29</td>\n",
       "      <td>0</td>\n",
       "    </tr>\n",
       "    <tr>\n",
       "      <th>1</th>\n",
       "      <td>7</td>\n",
       "      <td>1</td>\n",
       "      <td>1</td>\n",
       "      <td>10</td>\n",
       "      <td>93</td>\n",
       "      <td>93</td>\n",
       "      <td>63.0</td>\n",
       "      <td>0.00</td>\n",
       "      <td>1.0</td>\n",
       "      <td>36</td>\n",
       "      <td>0</td>\n",
       "    </tr>\n",
       "    <tr>\n",
       "      <th>2</th>\n",
       "      <td>7</td>\n",
       "      <td>1</td>\n",
       "      <td>1</td>\n",
       "      <td>1</td>\n",
       "      <td>22</td>\n",
       "      <td>140</td>\n",
       "      <td>22.0</td>\n",
       "      <td>0.00</td>\n",
       "      <td>1.0</td>\n",
       "      <td>25</td>\n",
       "      <td>0</td>\n",
       "    </tr>\n",
       "    <tr>\n",
       "      <th>3</th>\n",
       "      <td>2</td>\n",
       "      <td>0</td>\n",
       "      <td>1</td>\n",
       "      <td>17</td>\n",
       "      <td>14</td>\n",
       "      <td>118</td>\n",
       "      <td>54.5</td>\n",
       "      <td>13.63</td>\n",
       "      <td>1.0</td>\n",
       "      <td>24</td>\n",
       "      <td>0</td>\n",
       "    </tr>\n",
       "    <tr>\n",
       "      <th>4</th>\n",
       "      <td>7</td>\n",
       "      <td>1</td>\n",
       "      <td>1</td>\n",
       "      <td>10</td>\n",
       "      <td>90</td>\n",
       "      <td>145</td>\n",
       "      <td>10.0</td>\n",
       "      <td>0.00</td>\n",
       "      <td>1.0</td>\n",
       "      <td>23</td>\n",
       "      <td>0</td>\n",
       "    </tr>\n",
       "  </tbody>\n",
       "</table>\n",
       "</div>"
      ],
      "text/plain": [
       "   Agency  Agency Type  Distribution Channel  Product Name  Duration  \\\n",
       "0       6            1                     1            16        61   \n",
       "1       7            1                     1            10        93   \n",
       "2       7            1                     1             1        22   \n",
       "3       2            0                     1            17        14   \n",
       "4       7            1                     1            10        90   \n",
       "\n",
       "   Destination  Net Sales  Commision (in value)  Gender  Age  Claim  \n",
       "0          139       19.8                 11.88     1.0   29      0  \n",
       "1           93       63.0                  0.00     1.0   36      0  \n",
       "2          140       22.0                  0.00     1.0   25      0  \n",
       "3          118       54.5                 13.63     1.0   24      0  \n",
       "4          145       10.0                  0.00     1.0   23      0  "
      ]
     },
     "execution_count": 31,
     "metadata": {},
     "output_type": "execute_result"
    }
   ],
   "source": [
    "data.head()"
   ]
  },
  {
   "cell_type": "code",
   "execution_count": 32,
   "metadata": {},
   "outputs": [
    {
     "name": "stdout",
     "output_type": "stream",
     "text": [
      "<class 'pandas.core.frame.DataFrame'>\n",
      "RangeIndex: 48260 entries, 0 to 48259\n",
      "Data columns (total 11 columns):\n",
      " #   Column                Non-Null Count  Dtype  \n",
      "---  ------                --------------  -----  \n",
      " 0   Agency                48260 non-null  int32  \n",
      " 1   Agency Type           48260 non-null  int32  \n",
      " 2   Distribution Channel  48260 non-null  int32  \n",
      " 3   Product Name          48260 non-null  int32  \n",
      " 4   Duration              48260 non-null  int64  \n",
      " 5   Destination           48260 non-null  int32  \n",
      " 6   Net Sales             48260 non-null  float64\n",
      " 7   Commision (in value)  48260 non-null  float64\n",
      " 8   Gender                48260 non-null  float64\n",
      " 9   Age                   48260 non-null  int64  \n",
      " 10  Claim                 48260 non-null  int64  \n",
      "dtypes: float64(3), int32(5), int64(3)\n",
      "memory usage: 3.1 MB\n"
     ]
    }
   ],
   "source": [
    "data.info()"
   ]
  },
  {
   "cell_type": "code",
   "execution_count": 33,
   "metadata": {},
   "outputs": [
    {
     "data": {
      "text/html": [
       "<div>\n",
       "<style scoped>\n",
       "    .dataframe tbody tr th:only-of-type {\n",
       "        vertical-align: middle;\n",
       "    }\n",
       "\n",
       "    .dataframe tbody tr th {\n",
       "        vertical-align: top;\n",
       "    }\n",
       "\n",
       "    .dataframe thead th {\n",
       "        text-align: right;\n",
       "    }\n",
       "</style>\n",
       "<table border=\"1\" class=\"dataframe\">\n",
       "  <thead>\n",
       "    <tr style=\"text-align: right;\">\n",
       "      <th></th>\n",
       "      <th>Agency</th>\n",
       "      <th>Agency Type</th>\n",
       "      <th>Distribution Channel</th>\n",
       "      <th>Product Name</th>\n",
       "      <th>Duration</th>\n",
       "      <th>Destination</th>\n",
       "      <th>Net Sales</th>\n",
       "      <th>Commision (in value)</th>\n",
       "      <th>Gender</th>\n",
       "      <th>Age</th>\n",
       "      <th>Claim</th>\n",
       "    </tr>\n",
       "  </thead>\n",
       "  <tbody>\n",
       "    <tr>\n",
       "      <th>min</th>\n",
       "      <td>0.0</td>\n",
       "      <td>0.0</td>\n",
       "      <td>0.0</td>\n",
       "      <td>0.0</td>\n",
       "      <td>-2.0</td>\n",
       "      <td>0.0</td>\n",
       "      <td>-389.0</td>\n",
       "      <td>0.00</td>\n",
       "      <td>0.0</td>\n",
       "      <td>0.0</td>\n",
       "      <td>0.0</td>\n",
       "    </tr>\n",
       "    <tr>\n",
       "      <th>max</th>\n",
       "      <td>15.0</td>\n",
       "      <td>1.0</td>\n",
       "      <td>1.0</td>\n",
       "      <td>25.0</td>\n",
       "      <td>4881.0</td>\n",
       "      <td>148.0</td>\n",
       "      <td>666.0</td>\n",
       "      <td>262.76</td>\n",
       "      <td>1.0</td>\n",
       "      <td>118.0</td>\n",
       "      <td>1.0</td>\n",
       "    </tr>\n",
       "  </tbody>\n",
       "</table>\n",
       "</div>"
      ],
      "text/plain": [
       "     Agency  Agency Type  Distribution Channel  Product Name  Duration  \\\n",
       "min     0.0          0.0                   0.0           0.0      -2.0   \n",
       "max    15.0          1.0                   1.0          25.0    4881.0   \n",
       "\n",
       "     Destination  Net Sales  Commision (in value)  Gender    Age  Claim  \n",
       "min          0.0     -389.0                  0.00     0.0    0.0    0.0  \n",
       "max        148.0      666.0                262.76     1.0  118.0    1.0  "
      ]
     },
     "execution_count": 33,
     "metadata": {},
     "output_type": "execute_result"
    }
   ],
   "source": [
    "data.describe().loc[['min', 'max'], :]"
   ]
  },
  {
   "cell_type": "markdown",
   "metadata": {},
   "source": [
    "The data is now imputed with appropriate values instead of np.nan"
   ]
  },
  {
   "cell_type": "markdown",
   "metadata": {},
   "source": [
    "### Dealing with Outliers:"
   ]
  },
  {
   "cell_type": "markdown",
   "metadata": {},
   "source": [
    "Plotting boxplot for checking outliers for the numeric columns mentioned before:"
   ]
  },
  {
   "cell_type": "code",
   "execution_count": 34,
   "metadata": {},
   "outputs": [
    {
     "data": {
      "text/plain": [
       "4"
      ]
     },
     "execution_count": 34,
     "metadata": {},
     "output_type": "execute_result"
    }
   ],
   "source": [
    "len(num_col)"
   ]
  },
  {
   "cell_type": "code",
   "execution_count": 35,
   "metadata": {},
   "outputs": [
    {
     "data": {
      "image/png": "[encoded data removed]",
      "text/plain": [
       "<Figure size 1800x720 with 4 Axes>"
      ]
     },
     "metadata": {
      "needs_background": "light"
     },
     "output_type": "display_data"
    }
   ],
   "source": [
    "plt.figure(figsize=(25,10))\n",
    "for i, col in zip(range(1,len(num_col)+1), num_col):\n",
    "    plt.subplot(1, len(num_col), i)\n",
    "    plt.boxplot(data[col], labels=[col])\n",
    "    plt.xticks(size=30)"
   ]
  },
  {
   "cell_type": "markdown",
   "metadata": {},
   "source": [
    "All four columns have many outliers on both sides of the box plot"
   ]
  },
  {
   "cell_type": "markdown",
   "metadata": {},
   "source": [
    "Defining a function to get the index of outliers for a given column:"
   ]
  },
  {
   "cell_type": "code",
   "execution_count": 36,
   "metadata": {},
   "outputs": [],
   "source": [
    "def outliers_index(X):\n",
    "    \n",
    "    q = np.percentile(X, [0, 25, 50, 75, 100])\n",
    "    iqr = q[3] - q[1]\n",
    "    \n",
    "    lw = q[1] - (1.5 * iqr)\n",
    "    uw = q[3] + (1.5 * iqr)\n",
    "    \n",
    "    indx = np.where( (X<lw) | (X>uw) )\n",
    "    #X = np.delete(X, indx)\n",
    "    \n",
    "    return indx"
   ]
  },
  {
   "cell_type": "markdown",
   "metadata": {},
   "source": [
    "Getting the list of outlier rows for all three columns:"
   ]
  },
  {
   "cell_type": "code",
   "execution_count": 37,
   "metadata": {},
   "outputs": [
    {
     "data": {
      "text/plain": [
       "[(array([   20,    28,    36, ..., 48220, 48228, 48240], dtype=int64),),\n",
       " (array([   12,    20,    28, ..., 48240, 48245, 48253], dtype=int64),),\n",
       " (array([   20,    28,    30, ..., 48240, 48245, 48253], dtype=int64),),\n",
       " (array([   10,    12,    28, ..., 48245, 48248, 48258], dtype=int64),)]"
      ]
     },
     "execution_count": 37,
     "metadata": {},
     "output_type": "execute_result"
    }
   ],
   "source": [
    "all_index = []\n",
    "for col in num_col:\n",
    "    all_index.append(outliers_index(data[col]))\n",
    "all_index"
   ]
  },
  {
   "cell_type": "code",
   "execution_count": 38,
   "metadata": {},
   "outputs": [
    {
     "name": "stdout",
     "output_type": "stream",
     "text": [
      "Number of outliers in Column - Duration : 4240\n",
      "Number of outliers in Column - Net Sales : 4219\n",
      "Number of outliers in Column - Commision (in value) : 5358\n",
      "Number of outliers in Column - Age : 5629\n"
     ]
    }
   ],
   "source": [
    "for i in range(len(num_col)):\n",
    "    print(\"Number of outliers in Column -\", num_col[i], \":\", len(all_index[i][0]))"
   ]
  },
  {
   "cell_type": "markdown",
   "metadata": {},
   "source": [
    "Taking the union of all these outlier rows, so that we know which rows to exclude and their count:"
   ]
  },
  {
   "cell_type": "code",
   "execution_count": 39,
   "metadata": {},
   "outputs": [
    {
     "name": "stdout",
     "output_type": "stream",
     "text": [
      "Outlier rows: 13502\n"
     ]
    },
    {
     "data": {
      "text/plain": [
       "array([   10,    12,    20, ..., 48248, 48253, 48258], dtype=int64)"
      ]
     },
     "execution_count": 39,
     "metadata": {},
     "output_type": "execute_result"
    }
   ],
   "source": [
    "Outlier_rows_array = np.union1d(np.union1d(np.union1d(all_index[0], all_index[1]), all_index[2]), all_index[3])\n",
    "print(\"Outlier rows:\", len(Outlier_rows_array))\n",
    "Outlier_rows_array"
   ]
  },
  {
   "cell_type": "markdown",
   "metadata": {},
   "source": [
    "So there are 13,502 rows which have at least 1 outlier in any of the four numeric columns.\n",
    "\n",
    "To remove the Outlier Rows from the dataframe:"
   ]
  },
  {
   "cell_type": "code",
   "execution_count": 40,
   "metadata": {},
   "outputs": [],
   "source": [
    "data.drop(index=Outlier_rows_array, inplace=True)"
   ]
  },
  {
   "cell_type": "code",
   "execution_count": 41,
   "metadata": {},
   "outputs": [
    {
     "name": "stdout",
     "output_type": "stream",
     "text": [
      "<class 'pandas.core.frame.DataFrame'>\n",
      "Int64Index: 34758 entries, 0 to 48259\n",
      "Data columns (total 11 columns):\n",
      " #   Column                Non-Null Count  Dtype  \n",
      "---  ------                --------------  -----  \n",
      " 0   Agency                34758 non-null  int32  \n",
      " 1   Agency Type           34758 non-null  int32  \n",
      " 2   Distribution Channel  34758 non-null  int32  \n",
      " 3   Product Name          34758 non-null  int32  \n",
      " 4   Duration              34758 non-null  int64  \n",
      " 5   Destination           34758 non-null  int32  \n",
      " 6   Net Sales             34758 non-null  float64\n",
      " 7   Commision (in value)  34758 non-null  float64\n",
      " 8   Gender                34758 non-null  float64\n",
      " 9   Age                   34758 non-null  int64  \n",
      " 10  Claim                 34758 non-null  int64  \n",
      "dtypes: float64(3), int32(5), int64(3)\n",
      "memory usage: 2.5 MB\n"
     ]
    }
   ],
   "source": [
    "data.info()"
   ]
  },
  {
   "cell_type": "markdown",
   "metadata": {},
   "source": [
    "And, we are left with exactly 34,758 rows"
   ]
  },
  {
   "cell_type": "code",
   "execution_count": 42,
   "metadata": {},
   "outputs": [
    {
     "data": {
      "text/html": [
       "<div>\n",
       "<style scoped>\n",
       "    .dataframe tbody tr th:only-of-type {\n",
       "        vertical-align: middle;\n",
       "    }\n",
       "\n",
       "    .dataframe tbody tr th {\n",
       "        vertical-align: top;\n",
       "    }\n",
       "\n",
       "    .dataframe thead th {\n",
       "        text-align: right;\n",
       "    }\n",
       "</style>\n",
       "<table border=\"1\" class=\"dataframe\">\n",
       "  <thead>\n",
       "    <tr style=\"text-align: right;\">\n",
       "      <th></th>\n",
       "      <th>Agency</th>\n",
       "      <th>Agency Type</th>\n",
       "      <th>Distribution Channel</th>\n",
       "      <th>Product Name</th>\n",
       "      <th>Duration</th>\n",
       "      <th>Destination</th>\n",
       "      <th>Net Sales</th>\n",
       "      <th>Commision (in value)</th>\n",
       "      <th>Gender</th>\n",
       "      <th>Age</th>\n",
       "      <th>Claim</th>\n",
       "    </tr>\n",
       "  </thead>\n",
       "  <tbody>\n",
       "    <tr>\n",
       "      <th>0</th>\n",
       "      <td>6</td>\n",
       "      <td>1</td>\n",
       "      <td>1</td>\n",
       "      <td>16</td>\n",
       "      <td>61</td>\n",
       "      <td>139</td>\n",
       "      <td>19.8</td>\n",
       "      <td>11.88</td>\n",
       "      <td>1.0</td>\n",
       "      <td>29</td>\n",
       "      <td>0</td>\n",
       "    </tr>\n",
       "    <tr>\n",
       "      <th>1</th>\n",
       "      <td>7</td>\n",
       "      <td>1</td>\n",
       "      <td>1</td>\n",
       "      <td>10</td>\n",
       "      <td>93</td>\n",
       "      <td>93</td>\n",
       "      <td>63.0</td>\n",
       "      <td>0.00</td>\n",
       "      <td>1.0</td>\n",
       "      <td>36</td>\n",
       "      <td>0</td>\n",
       "    </tr>\n",
       "    <tr>\n",
       "      <th>2</th>\n",
       "      <td>7</td>\n",
       "      <td>1</td>\n",
       "      <td>1</td>\n",
       "      <td>1</td>\n",
       "      <td>22</td>\n",
       "      <td>140</td>\n",
       "      <td>22.0</td>\n",
       "      <td>0.00</td>\n",
       "      <td>1.0</td>\n",
       "      <td>25</td>\n",
       "      <td>0</td>\n",
       "    </tr>\n",
       "    <tr>\n",
       "      <th>3</th>\n",
       "      <td>2</td>\n",
       "      <td>0</td>\n",
       "      <td>1</td>\n",
       "      <td>17</td>\n",
       "      <td>14</td>\n",
       "      <td>118</td>\n",
       "      <td>54.5</td>\n",
       "      <td>13.63</td>\n",
       "      <td>1.0</td>\n",
       "      <td>24</td>\n",
       "      <td>0</td>\n",
       "    </tr>\n",
       "    <tr>\n",
       "      <th>4</th>\n",
       "      <td>7</td>\n",
       "      <td>1</td>\n",
       "      <td>1</td>\n",
       "      <td>10</td>\n",
       "      <td>90</td>\n",
       "      <td>145</td>\n",
       "      <td>10.0</td>\n",
       "      <td>0.00</td>\n",
       "      <td>1.0</td>\n",
       "      <td>23</td>\n",
       "      <td>0</td>\n",
       "    </tr>\n",
       "  </tbody>\n",
       "</table>\n",
       "</div>"
      ],
      "text/plain": [
       "   Agency  Agency Type  Distribution Channel  Product Name  Duration  \\\n",
       "0       6            1                     1            16        61   \n",
       "1       7            1                     1            10        93   \n",
       "2       7            1                     1             1        22   \n",
       "3       2            0                     1            17        14   \n",
       "4       7            1                     1            10        90   \n",
       "\n",
       "   Destination  Net Sales  Commision (in value)  Gender  Age  Claim  \n",
       "0          139       19.8                 11.88     1.0   29      0  \n",
       "1           93       63.0                  0.00     1.0   36      0  \n",
       "2          140       22.0                  0.00     1.0   25      0  \n",
       "3          118       54.5                 13.63     1.0   24      0  \n",
       "4          145       10.0                  0.00     1.0   23      0  "
      ]
     },
     "execution_count": 42,
     "metadata": {},
     "output_type": "execute_result"
    }
   ],
   "source": [
    "data.head()"
   ]
  },
  {
   "cell_type": "code",
   "execution_count": 43,
   "metadata": {},
   "outputs": [],
   "source": [
    "## Converting all columns to int type (except float64 columns)\n",
    "\n",
    "for col in ['Agency', 'Agency Type', 'Distribution Channel', 'Product Name', 'Duration', 'Destination', 'Gender', 'Age', 'Claim']:\n",
    "    data[col] = data[col].astype(int)"
   ]
  },
  {
   "cell_type": "code",
   "execution_count": 44,
   "metadata": {},
   "outputs": [
    {
     "data": {
      "text/html": [
       "<div>\n",
       "<style scoped>\n",
       "    .dataframe tbody tr th:only-of-type {\n",
       "        vertical-align: middle;\n",
       "    }\n",
       "\n",
       "    .dataframe tbody tr th {\n",
       "        vertical-align: top;\n",
       "    }\n",
       "\n",
       "    .dataframe thead th {\n",
       "        text-align: right;\n",
       "    }\n",
       "</style>\n",
       "<table border=\"1\" class=\"dataframe\">\n",
       "  <thead>\n",
       "    <tr style=\"text-align: right;\">\n",
       "      <th></th>\n",
       "      <th>Agency</th>\n",
       "      <th>Agency Type</th>\n",
       "      <th>Distribution Channel</th>\n",
       "      <th>Product Name</th>\n",
       "      <th>Duration</th>\n",
       "      <th>Destination</th>\n",
       "      <th>Net Sales</th>\n",
       "      <th>Commision (in value)</th>\n",
       "      <th>Gender</th>\n",
       "      <th>Age</th>\n",
       "      <th>Claim</th>\n",
       "    </tr>\n",
       "  </thead>\n",
       "  <tbody>\n",
       "    <tr>\n",
       "      <th>0</th>\n",
       "      <td>6</td>\n",
       "      <td>1</td>\n",
       "      <td>1</td>\n",
       "      <td>16</td>\n",
       "      <td>61</td>\n",
       "      <td>139</td>\n",
       "      <td>19.8</td>\n",
       "      <td>11.88</td>\n",
       "      <td>1</td>\n",
       "      <td>29</td>\n",
       "      <td>0</td>\n",
       "    </tr>\n",
       "    <tr>\n",
       "      <th>1</th>\n",
       "      <td>7</td>\n",
       "      <td>1</td>\n",
       "      <td>1</td>\n",
       "      <td>10</td>\n",
       "      <td>93</td>\n",
       "      <td>93</td>\n",
       "      <td>63.0</td>\n",
       "      <td>0.00</td>\n",
       "      <td>1</td>\n",
       "      <td>36</td>\n",
       "      <td>0</td>\n",
       "    </tr>\n",
       "    <tr>\n",
       "      <th>2</th>\n",
       "      <td>7</td>\n",
       "      <td>1</td>\n",
       "      <td>1</td>\n",
       "      <td>1</td>\n",
       "      <td>22</td>\n",
       "      <td>140</td>\n",
       "      <td>22.0</td>\n",
       "      <td>0.00</td>\n",
       "      <td>1</td>\n",
       "      <td>25</td>\n",
       "      <td>0</td>\n",
       "    </tr>\n",
       "    <tr>\n",
       "      <th>3</th>\n",
       "      <td>2</td>\n",
       "      <td>0</td>\n",
       "      <td>1</td>\n",
       "      <td>17</td>\n",
       "      <td>14</td>\n",
       "      <td>118</td>\n",
       "      <td>54.5</td>\n",
       "      <td>13.63</td>\n",
       "      <td>1</td>\n",
       "      <td>24</td>\n",
       "      <td>0</td>\n",
       "    </tr>\n",
       "    <tr>\n",
       "      <th>4</th>\n",
       "      <td>7</td>\n",
       "      <td>1</td>\n",
       "      <td>1</td>\n",
       "      <td>10</td>\n",
       "      <td>90</td>\n",
       "      <td>145</td>\n",
       "      <td>10.0</td>\n",
       "      <td>0.00</td>\n",
       "      <td>1</td>\n",
       "      <td>23</td>\n",
       "      <td>0</td>\n",
       "    </tr>\n",
       "  </tbody>\n",
       "</table>\n",
       "</div>"
      ],
      "text/plain": [
       "   Agency  Agency Type  Distribution Channel  Product Name  Duration  \\\n",
       "0       6            1                     1            16        61   \n",
       "1       7            1                     1            10        93   \n",
       "2       7            1                     1             1        22   \n",
       "3       2            0                     1            17        14   \n",
       "4       7            1                     1            10        90   \n",
       "\n",
       "   Destination  Net Sales  Commision (in value)  Gender  Age  Claim  \n",
       "0          139       19.8                 11.88       1   29      0  \n",
       "1           93       63.0                  0.00       1   36      0  \n",
       "2          140       22.0                  0.00       1   25      0  \n",
       "3          118       54.5                 13.63       1   24      0  \n",
       "4          145       10.0                  0.00       1   23      0  "
      ]
     },
     "execution_count": 44,
     "metadata": {},
     "output_type": "execute_result"
    }
   ],
   "source": [
    "data.head()"
   ]
  },
  {
   "cell_type": "markdown",
   "metadata": {},
   "source": [
    "The categorical data is label encoded. "
   ]
  },
  {
   "cell_type": "code",
   "execution_count": 45,
   "metadata": {},
   "outputs": [
    {
     "data": {
      "text/plain": [
       "1    18775\n",
       "0    15983\n",
       "Name: Gender, dtype: int64"
      ]
     },
     "execution_count": 45,
     "metadata": {},
     "output_type": "execute_result"
    }
   ],
   "source": [
    "data.Gender.value_counts()"
   ]
  },
  {
   "cell_type": "markdown",
   "metadata": {},
   "source": [
    "### Normalize the data"
   ]
  },
  {
   "cell_type": "markdown",
   "metadata": {},
   "source": [
    "For normalisation, I am going to use MinMaxScaler as it returns the dataframe with values scaled between 0 to 1"
   ]
  },
  {
   "cell_type": "code",
   "execution_count": 46,
   "metadata": {},
   "outputs": [],
   "source": [
    "from sklearn.preprocessing import MinMaxScaler\n",
    "sc = MinMaxScaler()"
   ]
  },
  {
   "cell_type": "code",
   "execution_count": 47,
   "metadata": {},
   "outputs": [
    {
     "data": {
      "text/plain": [
       "array([19.8, 63. , 22. , ..., 31. ,  0. ,  0. ])"
      ]
     },
     "execution_count": 47,
     "metadata": {},
     "output_type": "execute_result"
    }
   ],
   "source": [
    "ls = list(data['Net Sales']) + list(test_data['Net Sales'])\n",
    "ls = np.array(ls)\n",
    "ls"
   ]
  },
  {
   "cell_type": "code",
   "execution_count": 48,
   "metadata": {},
   "outputs": [
    {
     "data": {
      "text/html": [
       "<div>\n",
       "<style scoped>\n",
       "    .dataframe tbody tr th:only-of-type {\n",
       "        vertical-align: middle;\n",
       "    }\n",
       "\n",
       "    .dataframe tbody tr th {\n",
       "        vertical-align: top;\n",
       "    }\n",
       "\n",
       "    .dataframe thead th {\n",
       "        text-align: right;\n",
       "    }\n",
       "</style>\n",
       "<table border=\"1\" class=\"dataframe\">\n",
       "  <thead>\n",
       "    <tr style=\"text-align: right;\">\n",
       "      <th></th>\n",
       "      <th>Agency</th>\n",
       "      <th>Agency Type</th>\n",
       "      <th>Distribution Channel</th>\n",
       "      <th>Product Name</th>\n",
       "      <th>Duration</th>\n",
       "      <th>Destination</th>\n",
       "      <th>Net Sales</th>\n",
       "      <th>Commision (in value)</th>\n",
       "      <th>Gender</th>\n",
       "      <th>Age</th>\n",
       "      <th>Claim</th>\n",
       "    </tr>\n",
       "  </thead>\n",
       "  <tbody>\n",
       "    <tr>\n",
       "      <th>count</th>\n",
       "      <td>34758.000000</td>\n",
       "      <td>34758.000000</td>\n",
       "      <td>34758.000000</td>\n",
       "      <td>34758.000000</td>\n",
       "      <td>34758.000000</td>\n",
       "      <td>34758.000000</td>\n",
       "      <td>34758.000000</td>\n",
       "      <td>34758.000000</td>\n",
       "      <td>34758.000000</td>\n",
       "      <td>34758.000000</td>\n",
       "      <td>34758.000000</td>\n",
       "    </tr>\n",
       "    <tr>\n",
       "      <th>mean</th>\n",
       "      <td>6.778094</td>\n",
       "      <td>0.752604</td>\n",
       "      <td>0.992146</td>\n",
       "      <td>8.504344</td>\n",
       "      <td>27.664566</td>\n",
       "      <td>85.565827</td>\n",
       "      <td>28.706983</td>\n",
       "      <td>3.767047</td>\n",
       "      <td>0.540163</td>\n",
       "      <td>36.801974</td>\n",
       "      <td>0.010587</td>\n",
       "    </tr>\n",
       "    <tr>\n",
       "      <th>std</th>\n",
       "      <td>2.193107</td>\n",
       "      <td>0.431505</td>\n",
       "      <td>0.088277</td>\n",
       "      <td>6.186988</td>\n",
       "      <td>26.282060</td>\n",
       "      <td>40.479507</td>\n",
       "      <td>19.043263</td>\n",
       "      <td>6.365318</td>\n",
       "      <td>0.498391</td>\n",
       "      <td>6.506434</td>\n",
       "      <td>0.102351</td>\n",
       "    </tr>\n",
       "    <tr>\n",
       "      <th>min</th>\n",
       "      <td>1.000000</td>\n",
       "      <td>0.000000</td>\n",
       "      <td>0.000000</td>\n",
       "      <td>0.000000</td>\n",
       "      <td>0.000000</td>\n",
       "      <td>0.000000</td>\n",
       "      <td>-27.000000</td>\n",
       "      <td>0.000000</td>\n",
       "      <td>0.000000</td>\n",
       "      <td>23.000000</td>\n",
       "      <td>0.000000</td>\n",
       "    </tr>\n",
       "    <tr>\n",
       "      <th>25%</th>\n",
       "      <td>7.000000</td>\n",
       "      <td>1.000000</td>\n",
       "      <td>1.000000</td>\n",
       "      <td>1.000000</td>\n",
       "      <td>8.000000</td>\n",
       "      <td>56.000000</td>\n",
       "      <td>17.000000</td>\n",
       "      <td>0.000000</td>\n",
       "      <td>0.000000</td>\n",
       "      <td>35.000000</td>\n",
       "      <td>0.000000</td>\n",
       "    </tr>\n",
       "    <tr>\n",
       "      <th>50%</th>\n",
       "      <td>7.000000</td>\n",
       "      <td>1.000000</td>\n",
       "      <td>1.000000</td>\n",
       "      <td>10.000000</td>\n",
       "      <td>18.000000</td>\n",
       "      <td>88.000000</td>\n",
       "      <td>22.500000</td>\n",
       "      <td>0.000000</td>\n",
       "      <td>1.000000</td>\n",
       "      <td>36.000000</td>\n",
       "      <td>0.000000</td>\n",
       "    </tr>\n",
       "    <tr>\n",
       "      <th>75%</th>\n",
       "      <td>7.000000</td>\n",
       "      <td>1.000000</td>\n",
       "      <td>1.000000</td>\n",
       "      <td>10.000000</td>\n",
       "      <td>39.000000</td>\n",
       "      <td>118.000000</td>\n",
       "      <td>37.000000</td>\n",
       "      <td>6.300000</td>\n",
       "      <td>1.000000</td>\n",
       "      <td>37.000000</td>\n",
       "      <td>0.000000</td>\n",
       "    </tr>\n",
       "    <tr>\n",
       "      <th>max</th>\n",
       "      <td>14.000000</td>\n",
       "      <td>1.000000</td>\n",
       "      <td>1.000000</td>\n",
       "      <td>25.000000</td>\n",
       "      <td>119.000000</td>\n",
       "      <td>148.000000</td>\n",
       "      <td>93.000000</td>\n",
       "      <td>29.050000</td>\n",
       "      <td>1.000000</td>\n",
       "      <td>55.000000</td>\n",
       "      <td>1.000000</td>\n",
       "    </tr>\n",
       "  </tbody>\n",
       "</table>\n",
       "</div>"
      ],
      "text/plain": [
       "             Agency   Agency Type  Distribution Channel  Product Name  \\\n",
       "count  34758.000000  34758.000000          34758.000000  34758.000000   \n",
       "mean       6.778094      0.752604              0.992146      8.504344   \n",
       "std        2.193107      0.431505              0.088277      6.186988   \n",
       "min        1.000000      0.000000              0.000000      0.000000   \n",
       "25%        7.000000      1.000000              1.000000      1.000000   \n",
       "50%        7.000000      1.000000              1.000000     10.000000   \n",
       "75%        7.000000      1.000000              1.000000     10.000000   \n",
       "max       14.000000      1.000000              1.000000     25.000000   \n",
       "\n",
       "           Duration   Destination     Net Sales  Commision (in value)  \\\n",
       "count  34758.000000  34758.000000  34758.000000          34758.000000   \n",
       "mean      27.664566     85.565827     28.706983              3.767047   \n",
       "std       26.282060     40.479507     19.043263              6.365318   \n",
       "min        0.000000      0.000000    -27.000000              0.000000   \n",
       "25%        8.000000     56.000000     17.000000              0.000000   \n",
       "50%       18.000000     88.000000     22.500000              0.000000   \n",
       "75%       39.000000    118.000000     37.000000              6.300000   \n",
       "max      119.000000    148.000000     93.000000             29.050000   \n",
       "\n",
       "             Gender           Age         Claim  \n",
       "count  34758.000000  34758.000000  34758.000000  \n",
       "mean       0.540163     36.801974      0.010587  \n",
       "std        0.498391      6.506434      0.102351  \n",
       "min        0.000000     23.000000      0.000000  \n",
       "25%        0.000000     35.000000      0.000000  \n",
       "50%        1.000000     36.000000      0.000000  \n",
       "75%        1.000000     37.000000      0.000000  \n",
       "max        1.000000     55.000000      1.000000  "
      ]
     },
     "execution_count": 48,
     "metadata": {},
     "output_type": "execute_result"
    }
   ],
   "source": [
    "data.describe()"
   ]
  },
  {
   "cell_type": "code",
   "execution_count": 49,
   "metadata": {},
   "outputs": [],
   "source": [
    "data_arr = sc.fit_transform(data.iloc[:,:-1])"
   ]
  },
  {
   "cell_type": "code",
   "execution_count": 50,
   "metadata": {},
   "outputs": [],
   "source": [
    "normalised_data = pd.DataFrame(data_arr, columns=['Agency', 'Agency Type', 'Distribution Channel', 'Product Name', 'Duration', 'Destination', 'Net Sales', 'Commision (in value)', 'Gender', 'Age'])\n",
    "normalised_data['Claim'] = data['Claim']"
   ]
  },
  {
   "cell_type": "code",
   "execution_count": 51,
   "metadata": {},
   "outputs": [
    {
     "data": {
      "text/html": [
       "<div>\n",
       "<style scoped>\n",
       "    .dataframe tbody tr th:only-of-type {\n",
       "        vertical-align: middle;\n",
       "    }\n",
       "\n",
       "    .dataframe tbody tr th {\n",
       "        vertical-align: top;\n",
       "    }\n",
       "\n",
       "    .dataframe thead th {\n",
       "        text-align: right;\n",
       "    }\n",
       "</style>\n",
       "<table border=\"1\" class=\"dataframe\">\n",
       "  <thead>\n",
       "    <tr style=\"text-align: right;\">\n",
       "      <th></th>\n",
       "      <th>Agency</th>\n",
       "      <th>Agency Type</th>\n",
       "      <th>Distribution Channel</th>\n",
       "      <th>Product Name</th>\n",
       "      <th>Duration</th>\n",
       "      <th>Destination</th>\n",
       "      <th>Net Sales</th>\n",
       "      <th>Commision (in value)</th>\n",
       "      <th>Gender</th>\n",
       "      <th>Age</th>\n",
       "      <th>Claim</th>\n",
       "    </tr>\n",
       "  </thead>\n",
       "  <tbody>\n",
       "    <tr>\n",
       "      <th>count</th>\n",
       "      <td>34758.000000</td>\n",
       "      <td>34758.000000</td>\n",
       "      <td>34758.000000</td>\n",
       "      <td>34758.000000</td>\n",
       "      <td>34758.000000</td>\n",
       "      <td>34758.000000</td>\n",
       "      <td>34758.000000</td>\n",
       "      <td>34758.000000</td>\n",
       "      <td>34758.000000</td>\n",
       "      <td>34758.000000</td>\n",
       "      <td>25016.000000</td>\n",
       "    </tr>\n",
       "    <tr>\n",
       "      <th>mean</th>\n",
       "      <td>0.444469</td>\n",
       "      <td>0.752604</td>\n",
       "      <td>0.992146</td>\n",
       "      <td>0.340174</td>\n",
       "      <td>0.232475</td>\n",
       "      <td>0.578147</td>\n",
       "      <td>0.464225</td>\n",
       "      <td>0.129675</td>\n",
       "      <td>0.540163</td>\n",
       "      <td>0.431312</td>\n",
       "      <td>0.010273</td>\n",
       "    </tr>\n",
       "    <tr>\n",
       "      <th>std</th>\n",
       "      <td>0.168701</td>\n",
       "      <td>0.431505</td>\n",
       "      <td>0.088277</td>\n",
       "      <td>0.247480</td>\n",
       "      <td>0.220858</td>\n",
       "      <td>0.273510</td>\n",
       "      <td>0.158694</td>\n",
       "      <td>0.219116</td>\n",
       "      <td>0.498391</td>\n",
       "      <td>0.203326</td>\n",
       "      <td>0.100838</td>\n",
       "    </tr>\n",
       "    <tr>\n",
       "      <th>min</th>\n",
       "      <td>0.000000</td>\n",
       "      <td>0.000000</td>\n",
       "      <td>0.000000</td>\n",
       "      <td>0.000000</td>\n",
       "      <td>0.000000</td>\n",
       "      <td>0.000000</td>\n",
       "      <td>0.000000</td>\n",
       "      <td>0.000000</td>\n",
       "      <td>0.000000</td>\n",
       "      <td>0.000000</td>\n",
       "      <td>0.000000</td>\n",
       "    </tr>\n",
       "    <tr>\n",
       "      <th>25%</th>\n",
       "      <td>0.461538</td>\n",
       "      <td>1.000000</td>\n",
       "      <td>1.000000</td>\n",
       "      <td>0.040000</td>\n",
       "      <td>0.067227</td>\n",
       "      <td>0.378378</td>\n",
       "      <td>0.366667</td>\n",
       "      <td>0.000000</td>\n",
       "      <td>0.000000</td>\n",
       "      <td>0.375000</td>\n",
       "      <td>0.000000</td>\n",
       "    </tr>\n",
       "    <tr>\n",
       "      <th>50%</th>\n",
       "      <td>0.461538</td>\n",
       "      <td>1.000000</td>\n",
       "      <td>1.000000</td>\n",
       "      <td>0.400000</td>\n",
       "      <td>0.151261</td>\n",
       "      <td>0.594595</td>\n",
       "      <td>0.412500</td>\n",
       "      <td>0.000000</td>\n",
       "      <td>1.000000</td>\n",
       "      <td>0.406250</td>\n",
       "      <td>0.000000</td>\n",
       "    </tr>\n",
       "    <tr>\n",
       "      <th>75%</th>\n",
       "      <td>0.461538</td>\n",
       "      <td>1.000000</td>\n",
       "      <td>1.000000</td>\n",
       "      <td>0.400000</td>\n",
       "      <td>0.327731</td>\n",
       "      <td>0.797297</td>\n",
       "      <td>0.533333</td>\n",
       "      <td>0.216867</td>\n",
       "      <td>1.000000</td>\n",
       "      <td>0.437500</td>\n",
       "      <td>0.000000</td>\n",
       "    </tr>\n",
       "    <tr>\n",
       "      <th>max</th>\n",
       "      <td>1.000000</td>\n",
       "      <td>1.000000</td>\n",
       "      <td>1.000000</td>\n",
       "      <td>1.000000</td>\n",
       "      <td>1.000000</td>\n",
       "      <td>1.000000</td>\n",
       "      <td>1.000000</td>\n",
       "      <td>1.000000</td>\n",
       "      <td>1.000000</td>\n",
       "      <td>1.000000</td>\n",
       "      <td>1.000000</td>\n",
       "    </tr>\n",
       "  </tbody>\n",
       "</table>\n",
       "</div>"
      ],
      "text/plain": [
       "             Agency   Agency Type  Distribution Channel  Product Name  \\\n",
       "count  34758.000000  34758.000000          34758.000000  34758.000000   \n",
       "mean       0.444469      0.752604              0.992146      0.340174   \n",
       "std        0.168701      0.431505              0.088277      0.247480   \n",
       "min        0.000000      0.000000              0.000000      0.000000   \n",
       "25%        0.461538      1.000000              1.000000      0.040000   \n",
       "50%        0.461538      1.000000              1.000000      0.400000   \n",
       "75%        0.461538      1.000000              1.000000      0.400000   \n",
       "max        1.000000      1.000000              1.000000      1.000000   \n",
       "\n",
       "           Duration   Destination     Net Sales  Commision (in value)  \\\n",
       "count  34758.000000  34758.000000  34758.000000          34758.000000   \n",
       "mean       0.232475      0.578147      0.464225              0.129675   \n",
       "std        0.220858      0.273510      0.158694              0.219116   \n",
       "min        0.000000      0.000000      0.000000              0.000000   \n",
       "25%        0.067227      0.378378      0.366667              0.000000   \n",
       "50%        0.151261      0.594595      0.412500              0.000000   \n",
       "75%        0.327731      0.797297      0.533333              0.216867   \n",
       "max        1.000000      1.000000      1.000000              1.000000   \n",
       "\n",
       "             Gender           Age         Claim  \n",
       "count  34758.000000  34758.000000  25016.000000  \n",
       "mean       0.540163      0.431312      0.010273  \n",
       "std        0.498391      0.203326      0.100838  \n",
       "min        0.000000      0.000000      0.000000  \n",
       "25%        0.000000      0.375000      0.000000  \n",
       "50%        1.000000      0.406250      0.000000  \n",
       "75%        1.000000      0.437500      0.000000  \n",
       "max        1.000000      1.000000      1.000000  "
      ]
     },
     "execution_count": 51,
     "metadata": {},
     "output_type": "execute_result"
    }
   ],
   "source": [
    "normalised_data.describe()"
   ]
  },
  {
   "cell_type": "markdown",
   "metadata": {},
   "source": [
    "The describe function displays the basic statistics of the dataframe. "
   ]
  },
  {
   "cell_type": "markdown",
   "metadata": {},
   "source": [
    "##### The above last column tells us that 1.06% of the target values are 'Yes'. This means that, the data is imbalanced data"
   ]
  },
  {
   "cell_type": "markdown",
   "metadata": {},
   "source": [
    "### Balancing the dataset (by method of Upsampling):"
   ]
  },
  {
   "cell_type": "code",
   "execution_count": 52,
   "metadata": {},
   "outputs": [
    {
     "data": {
      "text/plain": [
       "0.0    24759\n",
       "1.0      257\n",
       "Name: Claim, dtype: int64"
      ]
     },
     "execution_count": 52,
     "metadata": {},
     "output_type": "execute_result"
    }
   ],
   "source": [
    "normalised_data.Claim.value_counts()"
   ]
  },
  {
   "cell_type": "markdown",
   "metadata": {},
   "source": [
    "### Note that: \n",
    "#### 1  =  'Yes'\n",
    "#### 0  =  'No'"
   ]
  },
  {
   "cell_type": "code",
   "execution_count": 53,
   "metadata": {},
   "outputs": [
    {
     "data": {
      "text/plain": [
       "<matplotlib.axes._subplots.AxesSubplot at 0x28d80b4e340>"
      ]
     },
     "execution_count": 53,
     "metadata": {},
     "output_type": "execute_result"
    },
    {
     "data": {
      "image/png": "[encoded data removed]",
      "text/plain": [
       "<Figure size 432x288 with 1 Axes>"
      ]
     },
     "metadata": {
      "needs_background": "light"
     },
     "output_type": "display_data"
    }
   ],
   "source": [
    "normalised_data.Claim.value_counts().plot(kind='bar', title='No             Claim             Yes')"
   ]
  },
  {
   "cell_type": "code",
   "execution_count": 54,
   "metadata": {},
   "outputs": [],
   "source": [
    "normalised_data_Yes = normalised_data[normalised_data.Claim==1]  ## Taking only those rows having Yes as Claim\n",
    "normalised_data_No = normalised_data[normalised_data.Claim==0]   ## Taking only those rows having No as Claim"
   ]
  },
  {
   "cell_type": "code",
   "execution_count": 55,
   "metadata": {},
   "outputs": [],
   "source": [
    "normalised_data_Yes_upsampled = normalised_data_Yes.sample(34390, replace=True, random_state=1) ## Upsampling"
   ]
  },
  {
   "cell_type": "code",
   "execution_count": 56,
   "metadata": {},
   "outputs": [],
   "source": [
    "normalised_data_upsampled = pd.concat([normalised_data_Yes_upsampled, normalised_data_No], axis=0) ## Concatenating upsampled Yes rows with the original No rows"
   ]
  },
  {
   "cell_type": "code",
   "execution_count": 57,
   "metadata": {},
   "outputs": [
    {
     "data": {
      "text/plain": [
       "1.0    34390\n",
       "0.0    24759\n",
       "Name: Claim, dtype: int64"
      ]
     },
     "execution_count": 57,
     "metadata": {},
     "output_type": "execute_result"
    }
   ],
   "source": [
    "normalised_data_upsampled.Claim.value_counts()  ## Expected value counts to be equal after upsampling"
   ]
  },
  {
   "cell_type": "code",
   "execution_count": 58,
   "metadata": {},
   "outputs": [
    {
     "name": "stdout",
     "output_type": "stream",
     "text": [
      "Before resampling: \n",
      " 0.0    24759\n",
      "1.0      257\n",
      "Name: Claim, dtype: int64\n",
      "\n",
      "\n",
      "After resampling: \n",
      " 1.0    34390\n",
      "0.0    24759\n",
      "Name: Claim, dtype: int64\n"
     ]
    }
   ],
   "source": [
    "print(\"Before resampling: \\n\", normalised_data['Claim'].value_counts())\n",
    "print(\"\\n\\nAfter resampling: \\n\", normalised_data_upsampled['Claim'].value_counts())"
   ]
  },
  {
   "cell_type": "markdown",
   "metadata": {},
   "source": [
    "<b>Thus, I have balanced the data by upsampling the rows with 'Yes' as Claim.</b>\n",
    "\n",
    "The new value counts of Claim are 34390 and 34390 for both 'Yes' and 'No'"
   ]
  },
  {
   "cell_type": "code",
   "execution_count": 59,
   "metadata": {},
   "outputs": [],
   "source": [
    "normalised_data = normalised_data_upsampled  ## Overwriting the upsampled data to the original data object"
   ]
  },
  {
   "cell_type": "markdown",
   "metadata": {},
   "source": [
    "#### Splitting the Data into train and test:"
   ]
  },
  {
   "cell_type": "code",
   "execution_count": 60,
   "metadata": {},
   "outputs": [],
   "source": [
    "X = normalised_data.iloc[:, :-1]\n",
    "Y = normalised_data.iloc[:, -1]"
   ]
  },
  {
   "cell_type": "code",
   "execution_count": 61,
   "metadata": {},
   "outputs": [
    {
     "data": {
      "text/html": [
       "<div>\n",
       "<style scoped>\n",
       "    .dataframe tbody tr th:only-of-type {\n",
       "        vertical-align: middle;\n",
       "    }\n",
       "\n",
       "    .dataframe tbody tr th {\n",
       "        vertical-align: top;\n",
       "    }\n",
       "\n",
       "    .dataframe thead th {\n",
       "        text-align: right;\n",
       "    }\n",
       "</style>\n",
       "<table border=\"1\" class=\"dataframe\">\n",
       "  <thead>\n",
       "    <tr style=\"text-align: right;\">\n",
       "      <th></th>\n",
       "      <th>Agency</th>\n",
       "      <th>Agency Type</th>\n",
       "      <th>Distribution Channel</th>\n",
       "      <th>Product Name</th>\n",
       "      <th>Duration</th>\n",
       "      <th>Destination</th>\n",
       "      <th>Net Sales</th>\n",
       "      <th>Commision (in value)</th>\n",
       "      <th>Gender</th>\n",
       "      <th>Age</th>\n",
       "    </tr>\n",
       "  </thead>\n",
       "  <tbody>\n",
       "    <tr>\n",
       "      <th>5133</th>\n",
       "      <td>0.461538</td>\n",
       "      <td>1.0</td>\n",
       "      <td>1.0</td>\n",
       "      <td>0.40</td>\n",
       "      <td>0.100840</td>\n",
       "      <td>0.378378</td>\n",
       "      <td>0.366667</td>\n",
       "      <td>0.000000</td>\n",
       "      <td>1.0</td>\n",
       "      <td>0.40625</td>\n",
       "    </tr>\n",
       "    <tr>\n",
       "      <th>31383</th>\n",
       "      <td>0.461538</td>\n",
       "      <td>1.0</td>\n",
       "      <td>1.0</td>\n",
       "      <td>0.40</td>\n",
       "      <td>0.243697</td>\n",
       "      <td>0.358108</td>\n",
       "      <td>0.483333</td>\n",
       "      <td>0.000000</td>\n",
       "      <td>1.0</td>\n",
       "      <td>0.15625</td>\n",
       "    </tr>\n",
       "    <tr>\n",
       "      <th>11272</th>\n",
       "      <td>0.923077</td>\n",
       "      <td>0.0</td>\n",
       "      <td>1.0</td>\n",
       "      <td>0.88</td>\n",
       "      <td>0.470588</td>\n",
       "      <td>0.797297</td>\n",
       "      <td>0.234417</td>\n",
       "      <td>0.011015</td>\n",
       "      <td>1.0</td>\n",
       "      <td>0.78125</td>\n",
       "    </tr>\n",
       "    <tr>\n",
       "      <th>34248</th>\n",
       "      <td>0.461538</td>\n",
       "      <td>1.0</td>\n",
       "      <td>1.0</td>\n",
       "      <td>0.40</td>\n",
       "      <td>0.058824</td>\n",
       "      <td>0.945946</td>\n",
       "      <td>0.700000</td>\n",
       "      <td>0.000000</td>\n",
       "      <td>1.0</td>\n",
       "      <td>0.84375</td>\n",
       "    </tr>\n",
       "    <tr>\n",
       "      <th>27362</th>\n",
       "      <td>0.461538</td>\n",
       "      <td>1.0</td>\n",
       "      <td>1.0</td>\n",
       "      <td>0.40</td>\n",
       "      <td>0.092437</td>\n",
       "      <td>0.459459</td>\n",
       "      <td>0.733333</td>\n",
       "      <td>0.000000</td>\n",
       "      <td>1.0</td>\n",
       "      <td>0.40625</td>\n",
       "    </tr>\n",
       "    <tr>\n",
       "      <th>...</th>\n",
       "      <td>...</td>\n",
       "      <td>...</td>\n",
       "      <td>...</td>\n",
       "      <td>...</td>\n",
       "      <td>...</td>\n",
       "      <td>...</td>\n",
       "      <td>...</td>\n",
       "      <td>...</td>\n",
       "      <td>...</td>\n",
       "      <td>...</td>\n",
       "    </tr>\n",
       "    <tr>\n",
       "      <th>34751</th>\n",
       "      <td>0.384615</td>\n",
       "      <td>1.0</td>\n",
       "      <td>1.0</td>\n",
       "      <td>0.64</td>\n",
       "      <td>0.050420</td>\n",
       "      <td>0.385135</td>\n",
       "      <td>0.555000</td>\n",
       "      <td>0.817900</td>\n",
       "      <td>1.0</td>\n",
       "      <td>0.93750</td>\n",
       "    </tr>\n",
       "    <tr>\n",
       "      <th>34752</th>\n",
       "      <td>0.461538</td>\n",
       "      <td>1.0</td>\n",
       "      <td>1.0</td>\n",
       "      <td>0.40</td>\n",
       "      <td>0.815126</td>\n",
       "      <td>0.689189</td>\n",
       "      <td>0.325000</td>\n",
       "      <td>0.000000</td>\n",
       "      <td>0.0</td>\n",
       "      <td>0.40625</td>\n",
       "    </tr>\n",
       "    <tr>\n",
       "      <th>34753</th>\n",
       "      <td>0.461538</td>\n",
       "      <td>1.0</td>\n",
       "      <td>1.0</td>\n",
       "      <td>0.04</td>\n",
       "      <td>0.058824</td>\n",
       "      <td>0.175676</td>\n",
       "      <td>0.466667</td>\n",
       "      <td>0.000000</td>\n",
       "      <td>0.0</td>\n",
       "      <td>0.40625</td>\n",
       "    </tr>\n",
       "    <tr>\n",
       "      <th>34755</th>\n",
       "      <td>0.076923</td>\n",
       "      <td>0.0</td>\n",
       "      <td>1.0</td>\n",
       "      <td>0.36</td>\n",
       "      <td>0.168067</td>\n",
       "      <td>0.797297</td>\n",
       "      <td>0.725000</td>\n",
       "      <td>0.516351</td>\n",
       "      <td>0.0</td>\n",
       "      <td>0.21875</td>\n",
       "    </tr>\n",
       "    <tr>\n",
       "      <th>34756</th>\n",
       "      <td>0.384615</td>\n",
       "      <td>1.0</td>\n",
       "      <td>1.0</td>\n",
       "      <td>0.64</td>\n",
       "      <td>0.159664</td>\n",
       "      <td>0.027027</td>\n",
       "      <td>0.472500</td>\n",
       "      <td>0.613425</td>\n",
       "      <td>1.0</td>\n",
       "      <td>0.62500</td>\n",
       "    </tr>\n",
       "  </tbody>\n",
       "</table>\n",
       "<p>59149 rows × 10 columns</p>\n",
       "</div>"
      ],
      "text/plain": [
       "         Agency  Agency Type  Distribution Channel  Product Name  Duration  \\\n",
       "5133   0.461538          1.0                   1.0          0.40  0.100840   \n",
       "31383  0.461538          1.0                   1.0          0.40  0.243697   \n",
       "11272  0.923077          0.0                   1.0          0.88  0.470588   \n",
       "34248  0.461538          1.0                   1.0          0.40  0.058824   \n",
       "27362  0.461538          1.0                   1.0          0.40  0.092437   \n",
       "...         ...          ...                   ...           ...       ...   \n",
       "34751  0.384615          1.0                   1.0          0.64  0.050420   \n",
       "34752  0.461538          1.0                   1.0          0.40  0.815126   \n",
       "34753  0.461538          1.0                   1.0          0.04  0.058824   \n",
       "34755  0.076923          0.0                   1.0          0.36  0.168067   \n",
       "34756  0.384615          1.0                   1.0          0.64  0.159664   \n",
       "\n",
       "       Destination  Net Sales  Commision (in value)  Gender      Age  \n",
       "5133      0.378378   0.366667              0.000000     1.0  0.40625  \n",
       "31383     0.358108   0.483333              0.000000     1.0  0.15625  \n",
       "11272     0.797297   0.234417              0.011015     1.0  0.78125  \n",
       "34248     0.945946   0.700000              0.000000     1.0  0.84375  \n",
       "27362     0.459459   0.733333              0.000000     1.0  0.40625  \n",
       "...            ...        ...                   ...     ...      ...  \n",
       "34751     0.385135   0.555000              0.817900     1.0  0.93750  \n",
       "34752     0.689189   0.325000              0.000000     0.0  0.40625  \n",
       "34753     0.175676   0.466667              0.000000     0.0  0.40625  \n",
       "34755     0.797297   0.725000              0.516351     0.0  0.21875  \n",
       "34756     0.027027   0.472500              0.613425     1.0  0.62500  \n",
       "\n",
       "[59149 rows x 10 columns]"
      ]
     },
     "execution_count": 61,
     "metadata": {},
     "output_type": "execute_result"
    }
   ],
   "source": [
    "X"
   ]
  },
  {
   "cell_type": "code",
   "execution_count": 62,
   "metadata": {},
   "outputs": [
    {
     "data": {
      "text/plain": [
       "5133     1.0\n",
       "31383    1.0\n",
       "11272    1.0\n",
       "34248    1.0\n",
       "27362    1.0\n",
       "        ... \n",
       "34751    0.0\n",
       "34752    0.0\n",
       "34753    0.0\n",
       "34755    0.0\n",
       "34756    0.0\n",
       "Name: Claim, Length: 59149, dtype: float64"
      ]
     },
     "execution_count": 62,
     "metadata": {},
     "output_type": "execute_result"
    }
   ],
   "source": [
    "Y"
   ]
  },
  {
   "cell_type": "code",
   "execution_count": 63,
   "metadata": {},
   "outputs": [],
   "source": [
    "from sklearn.model_selection import train_test_split"
   ]
  },
  {
   "cell_type": "code",
   "execution_count": 64,
   "metadata": {},
   "outputs": [],
   "source": [
    "X_train, X_test, Y_train, Y_test = train_test_split(X, Y, random_state=0, test_size=.25, stratify=Y)"
   ]
  },
  {
   "cell_type": "code",
   "execution_count": 65,
   "metadata": {},
   "outputs": [
    {
     "name": "stdout",
     "output_type": "stream",
     "text": [
      "X_train shape:  (44361, 10)\n",
      "X_test shape:  (14788, 10)\n",
      "Y_train shape:  (44361,)\n",
      "Y_test shape:  (14788,)\n"
     ]
    }
   ],
   "source": [
    "print(\"X_train shape: \", X_train.shape)\n",
    "print(\"X_test shape: \", X_test.shape)\n",
    "print(\"Y_train shape: \", Y_train.shape)\n",
    "print(\"Y_test shape: \", Y_test.shape)"
   ]
  },
  {
   "cell_type": "markdown",
   "metadata": {},
   "source": [
    "I have divided the data into 75% training data and 25% test data"
   ]
  },
  {
   "cell_type": "code",
   "execution_count": 66,
   "metadata": {},
   "outputs": [
    {
     "data": {
      "text/html": [
       "<div>\n",
       "<style scoped>\n",
       "    .dataframe tbody tr th:only-of-type {\n",
       "        vertical-align: middle;\n",
       "    }\n",
       "\n",
       "    .dataframe tbody tr th {\n",
       "        vertical-align: top;\n",
       "    }\n",
       "\n",
       "    .dataframe thead th {\n",
       "        text-align: right;\n",
       "    }\n",
       "</style>\n",
       "<table border=\"1\" class=\"dataframe\">\n",
       "  <thead>\n",
       "    <tr style=\"text-align: right;\">\n",
       "      <th></th>\n",
       "      <th>Agency</th>\n",
       "      <th>Agency Type</th>\n",
       "      <th>Distribution Channel</th>\n",
       "      <th>Product Name</th>\n",
       "      <th>Duration</th>\n",
       "      <th>Destination</th>\n",
       "      <th>Net Sales</th>\n",
       "      <th>Commision (in value)</th>\n",
       "      <th>Gender</th>\n",
       "      <th>Age</th>\n",
       "    </tr>\n",
       "  </thead>\n",
       "  <tbody>\n",
       "    <tr>\n",
       "      <th>32634</th>\n",
       "      <td>0.461538</td>\n",
       "      <td>1.0</td>\n",
       "      <td>1.0</td>\n",
       "      <td>0.00</td>\n",
       "      <td>0.126050</td>\n",
       "      <td>0.695946</td>\n",
       "      <td>0.675000</td>\n",
       "      <td>0.000000</td>\n",
       "      <td>0.0</td>\n",
       "      <td>0.40625</td>\n",
       "    </tr>\n",
       "    <tr>\n",
       "      <th>13076</th>\n",
       "      <td>0.076923</td>\n",
       "      <td>0.0</td>\n",
       "      <td>1.0</td>\n",
       "      <td>0.36</td>\n",
       "      <td>0.033613</td>\n",
       "      <td>0.797297</td>\n",
       "      <td>0.337500</td>\n",
       "      <td>0.116351</td>\n",
       "      <td>1.0</td>\n",
       "      <td>0.90625</td>\n",
       "    </tr>\n",
       "    <tr>\n",
       "      <th>31162</th>\n",
       "      <td>0.461538</td>\n",
       "      <td>1.0</td>\n",
       "      <td>1.0</td>\n",
       "      <td>0.04</td>\n",
       "      <td>0.310924</td>\n",
       "      <td>0.358108</td>\n",
       "      <td>0.708333</td>\n",
       "      <td>0.000000</td>\n",
       "      <td>0.0</td>\n",
       "      <td>0.37500</td>\n",
       "    </tr>\n",
       "    <tr>\n",
       "      <th>27355</th>\n",
       "      <td>0.461538</td>\n",
       "      <td>1.0</td>\n",
       "      <td>1.0</td>\n",
       "      <td>0.00</td>\n",
       "      <td>0.243697</td>\n",
       "      <td>0.358108</td>\n",
       "      <td>0.391667</td>\n",
       "      <td>0.000000</td>\n",
       "      <td>0.0</td>\n",
       "      <td>0.37500</td>\n",
       "    </tr>\n",
       "    <tr>\n",
       "      <th>19635</th>\n",
       "      <td>0.461538</td>\n",
       "      <td>1.0</td>\n",
       "      <td>1.0</td>\n",
       "      <td>0.04</td>\n",
       "      <td>0.361345</td>\n",
       "      <td>0.425676</td>\n",
       "      <td>0.816667</td>\n",
       "      <td>0.000000</td>\n",
       "      <td>0.0</td>\n",
       "      <td>0.40625</td>\n",
       "    </tr>\n",
       "    <tr>\n",
       "      <th>...</th>\n",
       "      <td>...</td>\n",
       "      <td>...</td>\n",
       "      <td>...</td>\n",
       "      <td>...</td>\n",
       "      <td>...</td>\n",
       "      <td>...</td>\n",
       "      <td>...</td>\n",
       "      <td>...</td>\n",
       "      <td>...</td>\n",
       "      <td>...</td>\n",
       "    </tr>\n",
       "    <tr>\n",
       "      <th>3175</th>\n",
       "      <td>0.461538</td>\n",
       "      <td>1.0</td>\n",
       "      <td>1.0</td>\n",
       "      <td>0.40</td>\n",
       "      <td>0.420168</td>\n",
       "      <td>0.945946</td>\n",
       "      <td>0.708333</td>\n",
       "      <td>0.000000</td>\n",
       "      <td>1.0</td>\n",
       "      <td>0.31250</td>\n",
       "    </tr>\n",
       "    <tr>\n",
       "      <th>8381</th>\n",
       "      <td>0.461538</td>\n",
       "      <td>1.0</td>\n",
       "      <td>1.0</td>\n",
       "      <td>0.04</td>\n",
       "      <td>0.109244</td>\n",
       "      <td>0.358108</td>\n",
       "      <td>0.400000</td>\n",
       "      <td>0.000000</td>\n",
       "      <td>0.0</td>\n",
       "      <td>0.40625</td>\n",
       "    </tr>\n",
       "    <tr>\n",
       "      <th>28116</th>\n",
       "      <td>0.461538</td>\n",
       "      <td>1.0</td>\n",
       "      <td>1.0</td>\n",
       "      <td>0.40</td>\n",
       "      <td>0.109244</td>\n",
       "      <td>0.533784</td>\n",
       "      <td>0.308333</td>\n",
       "      <td>0.000000</td>\n",
       "      <td>1.0</td>\n",
       "      <td>0.75000</td>\n",
       "    </tr>\n",
       "    <tr>\n",
       "      <th>25622</th>\n",
       "      <td>0.461538</td>\n",
       "      <td>1.0</td>\n",
       "      <td>1.0</td>\n",
       "      <td>0.00</td>\n",
       "      <td>0.075630</td>\n",
       "      <td>0.797297</td>\n",
       "      <td>0.516667</td>\n",
       "      <td>0.000000</td>\n",
       "      <td>0.0</td>\n",
       "      <td>0.40625</td>\n",
       "    </tr>\n",
       "    <tr>\n",
       "      <th>30356</th>\n",
       "      <td>0.461538</td>\n",
       "      <td>1.0</td>\n",
       "      <td>1.0</td>\n",
       "      <td>0.40</td>\n",
       "      <td>0.058824</td>\n",
       "      <td>0.425676</td>\n",
       "      <td>0.333333</td>\n",
       "      <td>0.000000</td>\n",
       "      <td>1.0</td>\n",
       "      <td>0.21875</td>\n",
       "    </tr>\n",
       "  </tbody>\n",
       "</table>\n",
       "<p>44361 rows × 10 columns</p>\n",
       "</div>"
      ],
      "text/plain": [
       "         Agency  Agency Type  Distribution Channel  Product Name  Duration  \\\n",
       "32634  0.461538          1.0                   1.0          0.00  0.126050   \n",
       "13076  0.076923          0.0                   1.0          0.36  0.033613   \n",
       "31162  0.461538          1.0                   1.0          0.04  0.310924   \n",
       "27355  0.461538          1.0                   1.0          0.00  0.243697   \n",
       "19635  0.461538          1.0                   1.0          0.04  0.361345   \n",
       "...         ...          ...                   ...           ...       ...   \n",
       "3175   0.461538          1.0                   1.0          0.40  0.420168   \n",
       "8381   0.461538          1.0                   1.0          0.04  0.109244   \n",
       "28116  0.461538          1.0                   1.0          0.40  0.109244   \n",
       "25622  0.461538          1.0                   1.0          0.00  0.075630   \n",
       "30356  0.461538          1.0                   1.0          0.40  0.058824   \n",
       "\n",
       "       Destination  Net Sales  Commision (in value)  Gender      Age  \n",
       "32634     0.695946   0.675000              0.000000     0.0  0.40625  \n",
       "13076     0.797297   0.337500              0.116351     1.0  0.90625  \n",
       "31162     0.358108   0.708333              0.000000     0.0  0.37500  \n",
       "27355     0.358108   0.391667              0.000000     0.0  0.37500  \n",
       "19635     0.425676   0.816667              0.000000     0.0  0.40625  \n",
       "...            ...        ...                   ...     ...      ...  \n",
       "3175      0.945946   0.708333              0.000000     1.0  0.31250  \n",
       "8381      0.358108   0.400000              0.000000     0.0  0.40625  \n",
       "28116     0.533784   0.308333              0.000000     1.0  0.75000  \n",
       "25622     0.797297   0.516667              0.000000     0.0  0.40625  \n",
       "30356     0.425676   0.333333              0.000000     1.0  0.21875  \n",
       "\n",
       "[44361 rows x 10 columns]"
      ]
     },
     "execution_count": 66,
     "metadata": {},
     "output_type": "execute_result"
    }
   ],
   "source": [
    "X_train"
   ]
  },
  {
   "cell_type": "code",
   "execution_count": 67,
   "metadata": {},
   "outputs": [
    {
     "data": {
      "text/html": [
       "<div>\n",
       "<style scoped>\n",
       "    .dataframe tbody tr th:only-of-type {\n",
       "        vertical-align: middle;\n",
       "    }\n",
       "\n",
       "    .dataframe tbody tr th {\n",
       "        vertical-align: top;\n",
       "    }\n",
       "\n",
       "    .dataframe thead th {\n",
       "        text-align: right;\n",
       "    }\n",
       "</style>\n",
       "<table border=\"1\" class=\"dataframe\">\n",
       "  <thead>\n",
       "    <tr style=\"text-align: right;\">\n",
       "      <th></th>\n",
       "      <th>Agency</th>\n",
       "      <th>Agency Type</th>\n",
       "      <th>Distribution Channel</th>\n",
       "      <th>Product Name</th>\n",
       "      <th>Duration</th>\n",
       "      <th>Destination</th>\n",
       "      <th>Net Sales</th>\n",
       "      <th>Commision (in value)</th>\n",
       "      <th>Gender</th>\n",
       "      <th>Age</th>\n",
       "    </tr>\n",
       "  </thead>\n",
       "  <tbody>\n",
       "    <tr>\n",
       "      <th>17767</th>\n",
       "      <td>0.461538</td>\n",
       "      <td>1.0</td>\n",
       "      <td>1.0</td>\n",
       "      <td>0.00</td>\n",
       "      <td>0.176471</td>\n",
       "      <td>0.945946</td>\n",
       "      <td>0.775000</td>\n",
       "      <td>0.000000</td>\n",
       "      <td>1.0</td>\n",
       "      <td>0.40625</td>\n",
       "    </tr>\n",
       "    <tr>\n",
       "      <th>18421</th>\n",
       "      <td>0.076923</td>\n",
       "      <td>0.0</td>\n",
       "      <td>1.0</td>\n",
       "      <td>0.68</td>\n",
       "      <td>0.058824</td>\n",
       "      <td>0.797297</td>\n",
       "      <td>0.379167</td>\n",
       "      <td>0.159380</td>\n",
       "      <td>0.0</td>\n",
       "      <td>0.65625</td>\n",
       "    </tr>\n",
       "    <tr>\n",
       "      <th>33887</th>\n",
       "      <td>0.384615</td>\n",
       "      <td>1.0</td>\n",
       "      <td>1.0</td>\n",
       "      <td>0.64</td>\n",
       "      <td>0.176471</td>\n",
       "      <td>0.412162</td>\n",
       "      <td>0.307500</td>\n",
       "      <td>0.204475</td>\n",
       "      <td>1.0</td>\n",
       "      <td>0.50000</td>\n",
       "    </tr>\n",
       "    <tr>\n",
       "      <th>28238</th>\n",
       "      <td>0.461538</td>\n",
       "      <td>1.0</td>\n",
       "      <td>1.0</td>\n",
       "      <td>0.04</td>\n",
       "      <td>0.025210</td>\n",
       "      <td>0.533784</td>\n",
       "      <td>0.725000</td>\n",
       "      <td>0.000000</td>\n",
       "      <td>0.0</td>\n",
       "      <td>0.40625</td>\n",
       "    </tr>\n",
       "    <tr>\n",
       "      <th>10028</th>\n",
       "      <td>0.461538</td>\n",
       "      <td>1.0</td>\n",
       "      <td>1.0</td>\n",
       "      <td>0.40</td>\n",
       "      <td>0.050420</td>\n",
       "      <td>0.358108</td>\n",
       "      <td>0.383333</td>\n",
       "      <td>0.000000</td>\n",
       "      <td>1.0</td>\n",
       "      <td>0.40625</td>\n",
       "    </tr>\n",
       "    <tr>\n",
       "      <th>...</th>\n",
       "      <td>...</td>\n",
       "      <td>...</td>\n",
       "      <td>...</td>\n",
       "      <td>...</td>\n",
       "      <td>...</td>\n",
       "      <td>...</td>\n",
       "      <td>...</td>\n",
       "      <td>...</td>\n",
       "      <td>...</td>\n",
       "      <td>...</td>\n",
       "    </tr>\n",
       "    <tr>\n",
       "      <th>11910</th>\n",
       "      <td>0.615385</td>\n",
       "      <td>0.0</td>\n",
       "      <td>1.0</td>\n",
       "      <td>0.32</td>\n",
       "      <td>0.672269</td>\n",
       "      <td>0.175676</td>\n",
       "      <td>0.591667</td>\n",
       "      <td>0.530120</td>\n",
       "      <td>0.0</td>\n",
       "      <td>0.75000</td>\n",
       "    </tr>\n",
       "    <tr>\n",
       "      <th>21225</th>\n",
       "      <td>0.076923</td>\n",
       "      <td>0.0</td>\n",
       "      <td>1.0</td>\n",
       "      <td>0.36</td>\n",
       "      <td>0.302521</td>\n",
       "      <td>0.797297</td>\n",
       "      <td>0.812500</td>\n",
       "      <td>0.606885</td>\n",
       "      <td>0.0</td>\n",
       "      <td>0.84375</td>\n",
       "    </tr>\n",
       "    <tr>\n",
       "      <th>18777</th>\n",
       "      <td>0.615385</td>\n",
       "      <td>0.0</td>\n",
       "      <td>1.0</td>\n",
       "      <td>0.32</td>\n",
       "      <td>0.176471</td>\n",
       "      <td>0.689189</td>\n",
       "      <td>0.575000</td>\n",
       "      <td>0.506024</td>\n",
       "      <td>0.0</td>\n",
       "      <td>0.37500</td>\n",
       "    </tr>\n",
       "    <tr>\n",
       "      <th>19283</th>\n",
       "      <td>0.076923</td>\n",
       "      <td>0.0</td>\n",
       "      <td>1.0</td>\n",
       "      <td>0.68</td>\n",
       "      <td>0.033613</td>\n",
       "      <td>0.797297</td>\n",
       "      <td>0.456250</td>\n",
       "      <td>0.238898</td>\n",
       "      <td>0.0</td>\n",
       "      <td>0.34375</td>\n",
       "    </tr>\n",
       "    <tr>\n",
       "      <th>31777</th>\n",
       "      <td>0.384615</td>\n",
       "      <td>1.0</td>\n",
       "      <td>1.0</td>\n",
       "      <td>0.64</td>\n",
       "      <td>0.042017</td>\n",
       "      <td>0.871622</td>\n",
       "      <td>0.472500</td>\n",
       "      <td>0.613425</td>\n",
       "      <td>1.0</td>\n",
       "      <td>0.50000</td>\n",
       "    </tr>\n",
       "  </tbody>\n",
       "</table>\n",
       "<p>14788 rows × 10 columns</p>\n",
       "</div>"
      ],
      "text/plain": [
       "         Agency  Agency Type  Distribution Channel  Product Name  Duration  \\\n",
       "17767  0.461538          1.0                   1.0          0.00  0.176471   \n",
       "18421  0.076923          0.0                   1.0          0.68  0.058824   \n",
       "33887  0.384615          1.0                   1.0          0.64  0.176471   \n",
       "28238  0.461538          1.0                   1.0          0.04  0.025210   \n",
       "10028  0.461538          1.0                   1.0          0.40  0.050420   \n",
       "...         ...          ...                   ...           ...       ...   \n",
       "11910  0.615385          0.0                   1.0          0.32  0.672269   \n",
       "21225  0.076923          0.0                   1.0          0.36  0.302521   \n",
       "18777  0.615385          0.0                   1.0          0.32  0.176471   \n",
       "19283  0.076923          0.0                   1.0          0.68  0.033613   \n",
       "31777  0.384615          1.0                   1.0          0.64  0.042017   \n",
       "\n",
       "       Destination  Net Sales  Commision (in value)  Gender      Age  \n",
       "17767     0.945946   0.775000              0.000000     1.0  0.40625  \n",
       "18421     0.797297   0.379167              0.159380     0.0  0.65625  \n",
       "33887     0.412162   0.307500              0.204475     1.0  0.50000  \n",
       "28238     0.533784   0.725000              0.000000     0.0  0.40625  \n",
       "10028     0.358108   0.383333              0.000000     1.0  0.40625  \n",
       "...            ...        ...                   ...     ...      ...  \n",
       "11910     0.175676   0.591667              0.530120     0.0  0.75000  \n",
       "21225     0.797297   0.812500              0.606885     0.0  0.84375  \n",
       "18777     0.689189   0.575000              0.506024     0.0  0.37500  \n",
       "19283     0.797297   0.456250              0.238898     0.0  0.34375  \n",
       "31777     0.871622   0.472500              0.613425     1.0  0.50000  \n",
       "\n",
       "[14788 rows x 10 columns]"
      ]
     },
     "execution_count": 67,
     "metadata": {},
     "output_type": "execute_result"
    }
   ],
   "source": [
    "X_test"
   ]
  },
  {
   "cell_type": "code",
   "execution_count": 68,
   "metadata": {},
   "outputs": [
    {
     "data": {
      "text/plain": [
       "32634    0.0\n",
       "13076    0.0\n",
       "31162    1.0\n",
       "27355    0.0\n",
       "19635    0.0\n",
       "        ... \n",
       "3175     1.0\n",
       "8381     1.0\n",
       "28116    0.0\n",
       "25622    1.0\n",
       "30356    1.0\n",
       "Name: Claim, Length: 44361, dtype: float64"
      ]
     },
     "execution_count": 68,
     "metadata": {},
     "output_type": "execute_result"
    }
   ],
   "source": [
    "Y_train"
   ]
  },
  {
   "cell_type": "code",
   "execution_count": 69,
   "metadata": {},
   "outputs": [
    {
     "data": {
      "text/plain": [
       "17767    1.0\n",
       "18421    0.0\n",
       "33887    0.0\n",
       "28238    1.0\n",
       "10028    0.0\n",
       "        ... \n",
       "11910    0.0\n",
       "21225    0.0\n",
       "18777    0.0\n",
       "19283    1.0\n",
       "31777    1.0\n",
       "Name: Claim, Length: 14788, dtype: float64"
      ]
     },
     "execution_count": 69,
     "metadata": {},
     "output_type": "execute_result"
    }
   ],
   "source": [
    "Y_test"
   ]
  },
  {
   "cell_type": "markdown",
   "metadata": {},
   "source": [
    "## 2. Model Building, Evaluation and Selection "
   ]
  },
  {
   "cell_type": "markdown",
   "metadata": {},
   "source": [
    "First, I will write a single function to avoid repeating the same code for every model and evaluation calculations"
   ]
  },
  {
   "cell_type": "code",
   "execution_count": 70,
   "metadata": {},
   "outputs": [],
   "source": [
    "from sklearn.metrics import confusion_matrix   ## For Model Evaluation\n",
    "import seaborn as sns   ## For plotting the Confusion-Matrix"
   ]
  },
  {
   "cell_type": "code",
   "execution_count": 71,
   "metadata": {},
   "outputs": [],
   "source": [
    "def model_builder_and_evaluator(model, X_train, Y_train, X_test, Y_test):\n",
    "    \n",
    "    # Model Building Section\n",
    "    clf = model\n",
    "    clf.fit(X_train,Y_train)   ## Fitting the model\n",
    "    clf_predictions=clf.predict(X_test)  ## Making predictions on the Y_test data using parameters learned from the previous line\n",
    "    print(\"Prediction for \"+str(model)+\" : \\n\",clf_predictions)\n",
    "    print(\"\\n\\nAccuracy for training data = \", clf.score(X_train, Y_train))\n",
    "    print(\"Accuracy for test data = \", clf.score(X_test, Y_test))\n",
    "    \n",
    "    # Confusion-Matrix\n",
    "    conf_mat = confusion_matrix(y_true=Y_test, y_pred=clf_predictions)  ## Creating Confusion Matrix\n",
    "    # print(conf_mat)\n",
    "    ax= plt.subplot()\n",
    "    sns.heatmap(conf_mat, annot=True, ax = ax); ## Displaying Confusion Matrix using seaborn library\n",
    "    \n",
    "    ax.set_xlabel('Predicted labels');ax.set_ylabel('True labels'); \n",
    "    ax.set_title('Confusion Matrix'); \n",
    "    ax.xaxis.set_ticklabels(['NO', 'YES'])\n",
    "    ax.yaxis.set_ticklabels(['NO', 'YES'])\n",
    "    \n",
    "    # Evaluation metrics:\n",
    "    TP = conf_mat[0][0]  ## Labelling the elements of the confusion matrix\n",
    "    FN = conf_mat[0][1]\n",
    "    FP = conf_mat[1][0]\n",
    "    TN = conf_mat[1][1]\n",
    "\n",
    "    Accuracy = (TP + TN)/(TP+FN+FP+TN)     ## Defining Evaluation Metrics that are based on the elements of confusion matrix\n",
    "    Sensitivity = TP/(TP + FN)\n",
    "    Specificity = TN/(FP + TN)\n",
    "    Precision = TP/(TP + FP)\n",
    "    Recall = TP/(TP + FN)\n",
    "    F_Score = (2*Precision*Recall)/(Precision + Recall)\n",
    "    \n",
    "    print(\"\\nOther Metrics:\")\n",
    "    print(\"\\nSensitivity : \", Sensitivity)\n",
    "    print(\"Specificity : \", Specificity)\n",
    "    print(\"Precision : \", Precision)\n",
    "    print(\"Recall : \", Recall)\n",
    "    print(\"F-score : \", F_Score)\n",
    "    \n",
    "    return clf"
   ]
  },
  {
   "cell_type": "markdown",
   "metadata": {},
   "source": [
    "### A. Decision Trees Classifier:"
   ]
  },
  {
   "cell_type": "code",
   "execution_count": 72,
   "metadata": {},
   "outputs": [],
   "source": [
    "## Loading the necessary libraries for Decision Trees\n",
    "\n",
    "from sklearn import tree\n",
    "from sklearn.tree import DecisionTreeClassifier\n",
    "from sklearn.metrics import accuracy_score\n",
    "\n",
    "from sklearn.tree import export_graphviz\n",
    "import pydotplus\n",
    "from IPython.display import Image"
   ]
  },
  {
   "cell_type": "code",
   "execution_count": 73,
   "metadata": {},
   "outputs": [],
   "source": [
    "DTC = DecisionTreeClassifier(random_state=0)"
   ]
  },
  {
   "cell_type": "code",
   "execution_count": 74,
   "metadata": {},
   "outputs": [],
   "source": [
    "#model_builder_and_evaluator(DTC, X_train, Y_train, X_test, Y_test)"
   ]
  },
  {
   "cell_type": "code",
   "execution_count": null,
   "metadata": {},
   "outputs": [],
   "source": []
  },
  {
   "cell_type": "markdown",
   "metadata": {},
   "source": [
    "### B. Naive Bayes Classifier:"
   ]
  },
  {
   "cell_type": "code",
   "execution_count": 75,
   "metadata": {},
   "outputs": [],
   "source": [
    "from sklearn.naive_bayes import GaussianNB\n",
    "NBC = GaussianNB()"
   ]
  },
  {
   "cell_type": "code",
   "execution_count": 76,
   "metadata": {},
   "outputs": [],
   "source": [
    "#model_builder_and_evaluator(NBC, X_train, Y_train, X_test, Y_test)"
   ]
  },
  {
   "cell_type": "code",
   "execution_count": null,
   "metadata": {},
   "outputs": [],
   "source": []
  },
  {
   "cell_type": "markdown",
   "metadata": {},
   "source": [
    "### C. Logistic Regression Classifier:"
   ]
  },
  {
   "cell_type": "code",
   "execution_count": 77,
   "metadata": {},
   "outputs": [],
   "source": [
    "from sklearn.linear_model import LogisticRegression\n",
    "LR = LogisticRegression()"
   ]
  },
  {
   "cell_type": "code",
   "execution_count": 78,
   "metadata": {},
   "outputs": [],
   "source": [
    "#model_builder_and_evaluator(LR, X_train, Y_train, X_test, Y_test)"
   ]
  },
  {
   "cell_type": "code",
   "execution_count": null,
   "metadata": {},
   "outputs": [],
   "source": []
  },
  {
   "cell_type": "markdown",
   "metadata": {},
   "source": [
    "### D. K Neighbours Classifier:"
   ]
  },
  {
   "cell_type": "code",
   "execution_count": 79,
   "metadata": {},
   "outputs": [],
   "source": [
    "from sklearn.neighbors import KNeighborsClassifier\n",
    "KNC = KNeighborsClassifier(n_neighbors=3)"
   ]
  },
  {
   "cell_type": "code",
   "execution_count": 80,
   "metadata": {},
   "outputs": [],
   "source": [
    "#model_builder_and_evaluator(KNC, X_train, Y_train, X_test, Y_test)"
   ]
  },
  {
   "cell_type": "code",
   "execution_count": null,
   "metadata": {},
   "outputs": [],
   "source": []
  },
  {
   "cell_type": "markdown",
   "metadata": {},
   "source": [
    "### E. Random Forest Classifier:"
   ]
  },
  {
   "cell_type": "code",
   "execution_count": 81,
   "metadata": {},
   "outputs": [],
   "source": [
    "from sklearn.ensemble import RandomForestClassifier\n",
    "RFC = RandomForestClassifier(random_state=1)"
   ]
  },
  {
   "cell_type": "code",
   "execution_count": 82,
   "metadata": {},
   "outputs": [
    {
     "name": "stdout",
     "output_type": "stream",
     "text": [
      "Prediction for RandomForestClassifier(random_state=1) : \n",
      " [1. 0. 0. ... 0. 1. 1.]\n",
      "\n",
      "\n",
      "Accuracy for training data =  0.9981064448502063\n",
      "Accuracy for test data =  0.9970246145523397\n",
      "\n",
      "Other Metrics:\n",
      "\n",
      "Sensitivity :  0.992891760904685\n",
      "Specificity :  1.0\n",
      "Precision :  1.0\n",
      "Recall :  0.992891760904685\n",
      "F-score :  0.9964332036316472\n"
     ]
    },
    {
     "data": {
      "image/png": "[encoded data removed]",
      "text/plain": [
       "<Figure size 432x288 with 2 Axes>"
      ]
     },
     "metadata": {
      "needs_background": "light"
     },
     "output_type": "display_data"
    }
   ],
   "source": [
    "clf = model_builder_and_evaluator(RFC, X_train, Y_train, X_test, Y_test)"
   ]
  },
  {
   "cell_type": "code",
   "execution_count": null,
   "metadata": {},
   "outputs": [],
   "source": []
  },
  {
   "cell_type": "markdown",
   "metadata": {},
   "source": [
    "### F. Support Vector Classifier:"
   ]
  },
  {
   "cell_type": "code",
   "execution_count": 83,
   "metadata": {},
   "outputs": [],
   "source": [
    "from sklearn.svm import SVC\n",
    "svclassifier = SVC(random_state=1)"
   ]
  },
  {
   "cell_type": "code",
   "execution_count": 84,
   "metadata": {},
   "outputs": [],
   "source": [
    "# model_builder_and_evaluator(svclassifier, X_train, Y_train, X_test, Y_test)"
   ]
  },
  {
   "cell_type": "code",
   "execution_count": null,
   "metadata": {},
   "outputs": [],
   "source": []
  },
  {
   "cell_type": "markdown",
   "metadata": {},
   "source": [
    "## Selection:"
   ]
  },
  {
   "cell_type": "markdown",
   "metadata": {},
   "source": [
    "On comparing the confusion matrix and their corresponding metrics of all 6 classifiers, it is clear that the <b>Random Forest Classifier</b> has performed better than any of the other classifiers. This is because, Random Forest is an ensemble technique which trains different decision trees and makes use of them to output the improved accuracy which is higher than the individual trees. \n",
    "\n",
    "<b>In this dataset, Random Forest is showing F1-score for test data =  F-score :   0.9981356327196457 = 99.81%</b> . Also the other metrics like Precision, Recall, Sensitivity, Specificity and Accuracy are all above 99.5% which are best among the 6."
   ]
  },
  {
   "cell_type": "markdown",
   "metadata": {},
   "source": [
    "## Predictions on Test Data:"
   ]
  },
  {
   "cell_type": "code",
   "execution_count": 85,
   "metadata": {},
   "outputs": [
    {
     "data": {
      "text/html": [
       "<div>\n",
       "<style scoped>\n",
       "    .dataframe tbody tr th:only-of-type {\n",
       "        vertical-align: middle;\n",
       "    }\n",
       "\n",
       "    .dataframe tbody tr th {\n",
       "        vertical-align: top;\n",
       "    }\n",
       "\n",
       "    .dataframe thead th {\n",
       "        text-align: right;\n",
       "    }\n",
       "</style>\n",
       "<table border=\"1\" class=\"dataframe\">\n",
       "  <thead>\n",
       "    <tr style=\"text-align: right;\">\n",
       "      <th></th>\n",
       "      <th>Agency</th>\n",
       "      <th>Agency Type</th>\n",
       "      <th>Distribution Channel</th>\n",
       "      <th>Product Name</th>\n",
       "      <th>Duration</th>\n",
       "      <th>Destination</th>\n",
       "      <th>Net Sales</th>\n",
       "      <th>Commision (in value)</th>\n",
       "      <th>Gender</th>\n",
       "      <th>Age</th>\n",
       "    </tr>\n",
       "  </thead>\n",
       "  <tbody>\n",
       "    <tr>\n",
       "      <th>0</th>\n",
       "      <td>EPX</td>\n",
       "      <td>Travel Agency</td>\n",
       "      <td>Online</td>\n",
       "      <td>Cancellation Plan</td>\n",
       "      <td>24</td>\n",
       "      <td>HONG KONG</td>\n",
       "      <td>27.00</td>\n",
       "      <td>0.00</td>\n",
       "      <td>NaN</td>\n",
       "      <td>36</td>\n",
       "    </tr>\n",
       "    <tr>\n",
       "      <th>1</th>\n",
       "      <td>EPX</td>\n",
       "      <td>Travel Agency</td>\n",
       "      <td>Online</td>\n",
       "      <td>Cancellation Plan</td>\n",
       "      <td>51</td>\n",
       "      <td>JAPAN</td>\n",
       "      <td>45.00</td>\n",
       "      <td>0.00</td>\n",
       "      <td>NaN</td>\n",
       "      <td>36</td>\n",
       "    </tr>\n",
       "    <tr>\n",
       "      <th>2</th>\n",
       "      <td>EPX</td>\n",
       "      <td>Travel Agency</td>\n",
       "      <td>Online</td>\n",
       "      <td>Cancellation Plan</td>\n",
       "      <td>52</td>\n",
       "      <td>JAPAN</td>\n",
       "      <td>21.00</td>\n",
       "      <td>0.00</td>\n",
       "      <td>NaN</td>\n",
       "      <td>21</td>\n",
       "    </tr>\n",
       "    <tr>\n",
       "      <th>3</th>\n",
       "      <td>EPX</td>\n",
       "      <td>Travel Agency</td>\n",
       "      <td>Online</td>\n",
       "      <td>Cancellation Plan</td>\n",
       "      <td>89</td>\n",
       "      <td>SINGAPORE</td>\n",
       "      <td>11.00</td>\n",
       "      <td>0.00</td>\n",
       "      <td>NaN</td>\n",
       "      <td>30</td>\n",
       "    </tr>\n",
       "    <tr>\n",
       "      <th>4</th>\n",
       "      <td>EPX</td>\n",
       "      <td>Travel Agency</td>\n",
       "      <td>Online</td>\n",
       "      <td>Cancellation Plan</td>\n",
       "      <td>5</td>\n",
       "      <td>MALAYSIA</td>\n",
       "      <td>10.00</td>\n",
       "      <td>0.00</td>\n",
       "      <td>NaN</td>\n",
       "      <td>33</td>\n",
       "    </tr>\n",
       "    <tr>\n",
       "      <th>...</th>\n",
       "      <td>...</td>\n",
       "      <td>...</td>\n",
       "      <td>...</td>\n",
       "      <td>...</td>\n",
       "      <td>...</td>\n",
       "      <td>...</td>\n",
       "      <td>...</td>\n",
       "      <td>...</td>\n",
       "      <td>...</td>\n",
       "      <td>...</td>\n",
       "    </tr>\n",
       "    <tr>\n",
       "      <th>15827</th>\n",
       "      <td>EPX</td>\n",
       "      <td>Travel Agency</td>\n",
       "      <td>Online</td>\n",
       "      <td>2 way Comprehensive Plan</td>\n",
       "      <td>4</td>\n",
       "      <td>MALAYSIA</td>\n",
       "      <td>25.00</td>\n",
       "      <td>0.00</td>\n",
       "      <td>NaN</td>\n",
       "      <td>43</td>\n",
       "    </tr>\n",
       "    <tr>\n",
       "      <th>15828</th>\n",
       "      <td>C2B</td>\n",
       "      <td>Airlines</td>\n",
       "      <td>Online</td>\n",
       "      <td>Annual Silver Plan</td>\n",
       "      <td>409</td>\n",
       "      <td>SINGAPORE</td>\n",
       "      <td>252.85</td>\n",
       "      <td>63.21</td>\n",
       "      <td>F</td>\n",
       "      <td>20</td>\n",
       "    </tr>\n",
       "    <tr>\n",
       "      <th>15829</th>\n",
       "      <td>JWT</td>\n",
       "      <td>Airlines</td>\n",
       "      <td>Online</td>\n",
       "      <td>Value Plan</td>\n",
       "      <td>54</td>\n",
       "      <td>INDIA</td>\n",
       "      <td>31.00</td>\n",
       "      <td>12.40</td>\n",
       "      <td>F</td>\n",
       "      <td>118</td>\n",
       "    </tr>\n",
       "    <tr>\n",
       "      <th>15830</th>\n",
       "      <td>CWT</td>\n",
       "      <td>Travel Agency</td>\n",
       "      <td>Online</td>\n",
       "      <td>Rental Vehicle Excess Insurance</td>\n",
       "      <td>30</td>\n",
       "      <td>UNITED ARAB EMIRATES</td>\n",
       "      <td>0.00</td>\n",
       "      <td>11.88</td>\n",
       "      <td>NaN</td>\n",
       "      <td>31</td>\n",
       "    </tr>\n",
       "    <tr>\n",
       "      <th>15831</th>\n",
       "      <td>EPX</td>\n",
       "      <td>Travel Agency</td>\n",
       "      <td>Online</td>\n",
       "      <td>2 way Comprehensive Plan</td>\n",
       "      <td>79</td>\n",
       "      <td>PHILIPPINES</td>\n",
       "      <td>0.00</td>\n",
       "      <td>0.00</td>\n",
       "      <td>NaN</td>\n",
       "      <td>36</td>\n",
       "    </tr>\n",
       "  </tbody>\n",
       "</table>\n",
       "<p>15832 rows × 10 columns</p>\n",
       "</div>"
      ],
      "text/plain": [
       "      Agency    Agency Type Distribution Channel  \\\n",
       "0        EPX  Travel Agency               Online   \n",
       "1        EPX  Travel Agency               Online   \n",
       "2        EPX  Travel Agency               Online   \n",
       "3        EPX  Travel Agency               Online   \n",
       "4        EPX  Travel Agency               Online   \n",
       "...      ...            ...                  ...   \n",
       "15827    EPX  Travel Agency               Online   \n",
       "15828    C2B       Airlines               Online   \n",
       "15829    JWT       Airlines               Online   \n",
       "15830    CWT  Travel Agency               Online   \n",
       "15831    EPX  Travel Agency               Online   \n",
       "\n",
       "                          Product Name  Duration           Destination  \\\n",
       "0                    Cancellation Plan        24             HONG KONG   \n",
       "1                    Cancellation Plan        51                 JAPAN   \n",
       "2                    Cancellation Plan        52                 JAPAN   \n",
       "3                    Cancellation Plan        89             SINGAPORE   \n",
       "4                    Cancellation Plan         5              MALAYSIA   \n",
       "...                                ...       ...                   ...   \n",
       "15827         2 way Comprehensive Plan         4              MALAYSIA   \n",
       "15828               Annual Silver Plan       409             SINGAPORE   \n",
       "15829                       Value Plan        54                 INDIA   \n",
       "15830  Rental Vehicle Excess Insurance        30  UNITED ARAB EMIRATES   \n",
       "15831         2 way Comprehensive Plan        79           PHILIPPINES   \n",
       "\n",
       "       Net Sales  Commision (in value) Gender  Age  \n",
       "0          27.00                  0.00    NaN   36  \n",
       "1          45.00                  0.00    NaN   36  \n",
       "2          21.00                  0.00    NaN   21  \n",
       "3          11.00                  0.00    NaN   30  \n",
       "4          10.00                  0.00    NaN   33  \n",
       "...          ...                   ...    ...  ...  \n",
       "15827      25.00                  0.00    NaN   43  \n",
       "15828     252.85                 63.21      F   20  \n",
       "15829      31.00                 12.40      F  118  \n",
       "15830       0.00                 11.88    NaN   31  \n",
       "15831       0.00                  0.00    NaN   36  \n",
       "\n",
       "[15832 rows x 10 columns]"
      ]
     },
     "execution_count": 85,
     "metadata": {},
     "output_type": "execute_result"
    }
   ],
   "source": [
    "test_data"
   ]
  },
  {
   "cell_type": "code",
   "execution_count": 86,
   "metadata": {
    "scrolled": true
   },
   "outputs": [
    {
     "name": "stdout",
     "output_type": "stream",
     "text": [
      "<class 'pandas.core.frame.DataFrame'>\n",
      "RangeIndex: 15832 entries, 0 to 15831\n",
      "Data columns (total 10 columns):\n",
      " #   Column                Non-Null Count  Dtype  \n",
      "---  ------                --------------  -----  \n",
      " 0   Agency                15832 non-null  object \n",
      " 1   Agency Type           15832 non-null  object \n",
      " 2   Distribution Channel  15832 non-null  object \n",
      " 3   Product Name          15832 non-null  object \n",
      " 4   Duration              15832 non-null  int64  \n",
      " 5   Destination           15832 non-null  object \n",
      " 6   Net Sales             15832 non-null  float64\n",
      " 7   Commision (in value)  15832 non-null  float64\n",
      " 8   Gender                4546 non-null   object \n",
      " 9   Age                   15832 non-null  int64  \n",
      "dtypes: float64(2), int64(2), object(6)\n",
      "memory usage: 1.2+ MB\n"
     ]
    }
   ],
   "source": [
    "test_data.info()"
   ]
  },
  {
   "cell_type": "markdown",
   "metadata": {},
   "source": [
    "# Do data transformation, imputations, normalization, prediction for test_data"
   ]
  },
  {
   "cell_type": "code",
   "execution_count": 87,
   "metadata": {},
   "outputs": [],
   "source": [
    "# # Using the dictionary to label future data\n",
    "# df.apply(lambda x: d[x.name].transform(x))"
   ]
  },
  {
   "cell_type": "code",
   "execution_count": 88,
   "metadata": {},
   "outputs": [],
   "source": [
    "df3 = test_data[['Agency', 'Agency Type', 'Distribution Channel', 'Product Name', 'Destination']]\n",
    "\n",
    "df3 = df3.apply(lambda x: d[x.name].transform(x))\n",
    "\n",
    "for column in ['Agency', 'Agency Type', 'Distribution Channel', 'Product Name', 'Destination']:\n",
    "    test_data[column] = df3[column]"
   ]
  },
  {
   "cell_type": "code",
   "execution_count": 89,
   "metadata": {},
   "outputs": [
    {
     "data": {
      "text/html": [
       "<div>\n",
       "<style scoped>\n",
       "    .dataframe tbody tr th:only-of-type {\n",
       "        vertical-align: middle;\n",
       "    }\n",
       "\n",
       "    .dataframe tbody tr th {\n",
       "        vertical-align: top;\n",
       "    }\n",
       "\n",
       "    .dataframe thead th {\n",
       "        text-align: right;\n",
       "    }\n",
       "</style>\n",
       "<table border=\"1\" class=\"dataframe\">\n",
       "  <thead>\n",
       "    <tr style=\"text-align: right;\">\n",
       "      <th></th>\n",
       "      <th>Agency</th>\n",
       "      <th>Agency Type</th>\n",
       "      <th>Distribution Channel</th>\n",
       "      <th>Product Name</th>\n",
       "      <th>Duration</th>\n",
       "      <th>Destination</th>\n",
       "      <th>Net Sales</th>\n",
       "      <th>Commision (in value)</th>\n",
       "      <th>Gender</th>\n",
       "      <th>Age</th>\n",
       "    </tr>\n",
       "  </thead>\n",
       "  <tbody>\n",
       "    <tr>\n",
       "      <th>0</th>\n",
       "      <td>7</td>\n",
       "      <td>1</td>\n",
       "      <td>1</td>\n",
       "      <td>10</td>\n",
       "      <td>24</td>\n",
       "      <td>53</td>\n",
       "      <td>27.0</td>\n",
       "      <td>0.0</td>\n",
       "      <td>NaN</td>\n",
       "      <td>36</td>\n",
       "    </tr>\n",
       "    <tr>\n",
       "      <th>1</th>\n",
       "      <td>7</td>\n",
       "      <td>1</td>\n",
       "      <td>1</td>\n",
       "      <td>10</td>\n",
       "      <td>51</td>\n",
       "      <td>63</td>\n",
       "      <td>45.0</td>\n",
       "      <td>0.0</td>\n",
       "      <td>NaN</td>\n",
       "      <td>36</td>\n",
       "    </tr>\n",
       "    <tr>\n",
       "      <th>2</th>\n",
       "      <td>7</td>\n",
       "      <td>1</td>\n",
       "      <td>1</td>\n",
       "      <td>10</td>\n",
       "      <td>52</td>\n",
       "      <td>63</td>\n",
       "      <td>21.0</td>\n",
       "      <td>0.0</td>\n",
       "      <td>NaN</td>\n",
       "      <td>21</td>\n",
       "    </tr>\n",
       "    <tr>\n",
       "      <th>3</th>\n",
       "      <td>7</td>\n",
       "      <td>1</td>\n",
       "      <td>1</td>\n",
       "      <td>10</td>\n",
       "      <td>89</td>\n",
       "      <td>118</td>\n",
       "      <td>11.0</td>\n",
       "      <td>0.0</td>\n",
       "      <td>NaN</td>\n",
       "      <td>30</td>\n",
       "    </tr>\n",
       "    <tr>\n",
       "      <th>4</th>\n",
       "      <td>7</td>\n",
       "      <td>1</td>\n",
       "      <td>1</td>\n",
       "      <td>10</td>\n",
       "      <td>5</td>\n",
       "      <td>79</td>\n",
       "      <td>10.0</td>\n",
       "      <td>0.0</td>\n",
       "      <td>NaN</td>\n",
       "      <td>33</td>\n",
       "    </tr>\n",
       "  </tbody>\n",
       "</table>\n",
       "</div>"
      ],
      "text/plain": [
       "   Agency  Agency Type  Distribution Channel  Product Name  Duration  \\\n",
       "0       7            1                     1            10        24   \n",
       "1       7            1                     1            10        51   \n",
       "2       7            1                     1            10        52   \n",
       "3       7            1                     1            10        89   \n",
       "4       7            1                     1            10         5   \n",
       "\n",
       "   Destination  Net Sales  Commision (in value) Gender  Age  \n",
       "0           53       27.0                   0.0    NaN   36  \n",
       "1           63       45.0                   0.0    NaN   36  \n",
       "2           63       21.0                   0.0    NaN   21  \n",
       "3          118       11.0                   0.0    NaN   30  \n",
       "4           79       10.0                   0.0    NaN   33  "
      ]
     },
     "execution_count": 89,
     "metadata": {},
     "output_type": "execute_result"
    }
   ],
   "source": [
    "test_data.head()"
   ]
  },
  {
   "cell_type": "code",
   "execution_count": 90,
   "metadata": {},
   "outputs": [
    {
     "data": {
      "text/plain": [
       "0        NaN\n",
       "1        NaN\n",
       "2        NaN\n",
       "3        NaN\n",
       "4        NaN\n",
       "        ... \n",
       "15827    NaN\n",
       "15828    0.0\n",
       "15829    0.0\n",
       "15830    NaN\n",
       "15831    NaN\n",
       "Name: Gender, Length: 15832, dtype: float64"
      ]
     },
     "execution_count": 90,
     "metadata": {},
     "output_type": "execute_result"
    }
   ],
   "source": [
    "def GenderMap(y):\n",
    "    if y=='M':\n",
    "        return np.int(1)\n",
    "    elif y=='F':\n",
    "        return np.int(0)\n",
    "    else: return y\n",
    "\n",
    "test_data['Gender'] = list(map(lambda x: GenderMap(x), test_data['Gender']))\n",
    "test_data['Gender']"
   ]
  },
  {
   "cell_type": "code",
   "execution_count": 91,
   "metadata": {},
   "outputs": [
    {
     "data": {
      "text/html": [
       "<div>\n",
       "<style scoped>\n",
       "    .dataframe tbody tr th:only-of-type {\n",
       "        vertical-align: middle;\n",
       "    }\n",
       "\n",
       "    .dataframe tbody tr th {\n",
       "        vertical-align: top;\n",
       "    }\n",
       "\n",
       "    .dataframe thead th {\n",
       "        text-align: right;\n",
       "    }\n",
       "</style>\n",
       "<table border=\"1\" class=\"dataframe\">\n",
       "  <thead>\n",
       "    <tr style=\"text-align: right;\">\n",
       "      <th></th>\n",
       "      <th>Agency</th>\n",
       "      <th>Agency Type</th>\n",
       "      <th>Distribution Channel</th>\n",
       "      <th>Product Name</th>\n",
       "      <th>Duration</th>\n",
       "      <th>Destination</th>\n",
       "      <th>Net Sales</th>\n",
       "      <th>Commision (in value)</th>\n",
       "      <th>Gender</th>\n",
       "      <th>Age</th>\n",
       "    </tr>\n",
       "  </thead>\n",
       "  <tbody>\n",
       "    <tr>\n",
       "      <th>0</th>\n",
       "      <td>7</td>\n",
       "      <td>1</td>\n",
       "      <td>1</td>\n",
       "      <td>10</td>\n",
       "      <td>24</td>\n",
       "      <td>53</td>\n",
       "      <td>27.0</td>\n",
       "      <td>0.0</td>\n",
       "      <td>NaN</td>\n",
       "      <td>36</td>\n",
       "    </tr>\n",
       "    <tr>\n",
       "      <th>1</th>\n",
       "      <td>7</td>\n",
       "      <td>1</td>\n",
       "      <td>1</td>\n",
       "      <td>10</td>\n",
       "      <td>51</td>\n",
       "      <td>63</td>\n",
       "      <td>45.0</td>\n",
       "      <td>0.0</td>\n",
       "      <td>NaN</td>\n",
       "      <td>36</td>\n",
       "    </tr>\n",
       "    <tr>\n",
       "      <th>2</th>\n",
       "      <td>7</td>\n",
       "      <td>1</td>\n",
       "      <td>1</td>\n",
       "      <td>10</td>\n",
       "      <td>52</td>\n",
       "      <td>63</td>\n",
       "      <td>21.0</td>\n",
       "      <td>0.0</td>\n",
       "      <td>NaN</td>\n",
       "      <td>21</td>\n",
       "    </tr>\n",
       "    <tr>\n",
       "      <th>3</th>\n",
       "      <td>7</td>\n",
       "      <td>1</td>\n",
       "      <td>1</td>\n",
       "      <td>10</td>\n",
       "      <td>89</td>\n",
       "      <td>118</td>\n",
       "      <td>11.0</td>\n",
       "      <td>0.0</td>\n",
       "      <td>NaN</td>\n",
       "      <td>30</td>\n",
       "    </tr>\n",
       "    <tr>\n",
       "      <th>4</th>\n",
       "      <td>7</td>\n",
       "      <td>1</td>\n",
       "      <td>1</td>\n",
       "      <td>10</td>\n",
       "      <td>5</td>\n",
       "      <td>79</td>\n",
       "      <td>10.0</td>\n",
       "      <td>0.0</td>\n",
       "      <td>NaN</td>\n",
       "      <td>33</td>\n",
       "    </tr>\n",
       "  </tbody>\n",
       "</table>\n",
       "</div>"
      ],
      "text/plain": [
       "   Agency  Agency Type  Distribution Channel  Product Name  Duration  \\\n",
       "0       7            1                     1            10        24   \n",
       "1       7            1                     1            10        51   \n",
       "2       7            1                     1            10        52   \n",
       "3       7            1                     1            10        89   \n",
       "4       7            1                     1            10         5   \n",
       "\n",
       "   Destination  Net Sales  Commision (in value)  Gender  Age  \n",
       "0           53       27.0                   0.0     NaN   36  \n",
       "1           63       45.0                   0.0     NaN   36  \n",
       "2           63       21.0                   0.0     NaN   21  \n",
       "3          118       11.0                   0.0     NaN   30  \n",
       "4           79       10.0                   0.0     NaN   33  "
      ]
     },
     "execution_count": 91,
     "metadata": {},
     "output_type": "execute_result"
    }
   ],
   "source": [
    "test_data.head()"
   ]
  },
  {
   "cell_type": "code",
   "execution_count": 92,
   "metadata": {},
   "outputs": [
    {
     "data": {
      "text/plain": [
       "1.0    2330\n",
       "0.0    2216\n",
       "Name: Gender, dtype: int64"
      ]
     },
     "execution_count": 92,
     "metadata": {},
     "output_type": "execute_result"
    }
   ],
   "source": [
    "test_data.Gender.value_counts()"
   ]
  },
  {
   "cell_type": "code",
   "execution_count": 93,
   "metadata": {},
   "outputs": [],
   "source": [
    "# import numpy as np\n",
    "# import pandas as pd\n",
    "# from sklearn.impute import KNNImputer\n",
    "# from sklearn.preprocessing import MinMaxScaler\n",
    "\n",
    "# # df = pd.DataFrame({'A':['a','b','a',np.nan,'a','b','c'] , 'B':[1,2,3,4,6,7,9] , 'C':['q','e',np.nan,'w','w','e','q']})  \n",
    "\n",
    "\n",
    "# def find_category_mappings(df, variable):\n",
    "#     return {k: i for i, k in enumerate(df[variable].dropna().unique(), 0)}\n",
    "\n",
    "# def integer_encode(df , variable, ordinal_mapping):\n",
    "#     df[variable] = df[variable].map(ordinal_mapping)\n",
    "\n",
    "# mappin = dict()\n",
    "# def imputation(df1 , cols):\n",
    "#     df = df1.copy()\n",
    "#     #Encoding dict &amp; Removing nan    \n",
    "#     #mappin = dict()\n",
    "#     for variable in cols:\n",
    "#         mappings = find_category_mappings(df, variable)\n",
    "#         mappin[variable] = mappings\n",
    "\n",
    "#     #Apply mapping\n",
    "#     for variable in cols:\n",
    "#         integer_encode(df, variable, mappin[variable])  \n",
    "\n",
    "#     #Minmaxscaler and KNN imputation \n",
    "#     mm = MinMaxScaler()\n",
    "#     sca = mm.fit_transform(df)\n",
    "#     knn_imputer = KNNImputer()\n",
    "#     knn = knn_imputer.fit_transform(sca)\n",
    "#     df.iloc[:,:] = mm.inverse_transform(knn)\n",
    "#     for i in cols : \n",
    "#         df[i] = round(df[i]).astype('int')\n",
    "\n",
    "#     #Inverse transform\n",
    "#     for i in cols:\n",
    "#         inv_map = {v: k for k, v in mappin[i].items()}\n",
    "#         df[i] = df[i].map(inv_map)\n",
    "#     return df, mm, knn_imputer\n",
    "\n",
    "\n",
    "# #Imputation\n",
    "# D, mm, knn_imputer = imputation(imp_data,['Gender'])\n",
    "# data['Gender'] = D['Gender']"
   ]
  },
  {
   "cell_type": "code",
   "execution_count": 94,
   "metadata": {},
   "outputs": [],
   "source": [
    "def imputation_transform(df1 , cols, mm, knn_imputer, mappin):\n",
    "    df = df1.copy()\n",
    "    #Apply mapping\n",
    "    for variable in cols:\n",
    "        #integer_encode(df, variable, mappin[variable])\n",
    "        df[variable] = df[variable].map(mappin[variable])\n",
    "\n",
    "    #Minmaxscaler and KNN imputation \n",
    "    sca = mm.transform(df)\n",
    "    knn = knn_imputer.transform(sca)\n",
    "    df.iloc[:,:] = mm.inverse_transform(knn)\n",
    "    for i in cols : \n",
    "        df[i] = round(df[i]).astype('int')\n",
    "\n",
    "    #Inverse transform\n",
    "    for i in cols:\n",
    "        inv_map = {v: k for k, v in mappin[i].items()}\n",
    "        df[i] = df[i].map(inv_map)\n",
    "    return df\n",
    "\n",
    "\n",
    "#Imputation\n",
    "test_data = imputation_transform(test_data,['Gender'], mm, knn_imputer, mappin)\n",
    "test_data.Gender = test_data.Gender.astype(int)"
   ]
  },
  {
   "cell_type": "code",
   "execution_count": 95,
   "metadata": {},
   "outputs": [],
   "source": [
    "## Converting all columns to int type (except float64 columns)\n",
    "\n",
    "for col in ['Agency', 'Agency Type', 'Distribution Channel', 'Product Name', 'Duration', 'Destination', 'Gender', 'Age']:\n",
    "    test_data[col] = test_data[col].astype(int)"
   ]
  },
  {
   "cell_type": "code",
   "execution_count": 96,
   "metadata": {},
   "outputs": [
    {
     "data": {
      "text/html": [
       "<div>\n",
       "<style scoped>\n",
       "    .dataframe tbody tr th:only-of-type {\n",
       "        vertical-align: middle;\n",
       "    }\n",
       "\n",
       "    .dataframe tbody tr th {\n",
       "        vertical-align: top;\n",
       "    }\n",
       "\n",
       "    .dataframe thead th {\n",
       "        text-align: right;\n",
       "    }\n",
       "</style>\n",
       "<table border=\"1\" class=\"dataframe\">\n",
       "  <thead>\n",
       "    <tr style=\"text-align: right;\">\n",
       "      <th></th>\n",
       "      <th>Agency</th>\n",
       "      <th>Agency Type</th>\n",
       "      <th>Distribution Channel</th>\n",
       "      <th>Product Name</th>\n",
       "      <th>Duration</th>\n",
       "      <th>Destination</th>\n",
       "      <th>Net Sales</th>\n",
       "      <th>Commision (in value)</th>\n",
       "      <th>Gender</th>\n",
       "      <th>Age</th>\n",
       "    </tr>\n",
       "  </thead>\n",
       "  <tbody>\n",
       "    <tr>\n",
       "      <th>0</th>\n",
       "      <td>7</td>\n",
       "      <td>1</td>\n",
       "      <td>1</td>\n",
       "      <td>10</td>\n",
       "      <td>24</td>\n",
       "      <td>53</td>\n",
       "      <td>27.0</td>\n",
       "      <td>0.0</td>\n",
       "      <td>1</td>\n",
       "      <td>36</td>\n",
       "    </tr>\n",
       "    <tr>\n",
       "      <th>1</th>\n",
       "      <td>7</td>\n",
       "      <td>1</td>\n",
       "      <td>1</td>\n",
       "      <td>10</td>\n",
       "      <td>51</td>\n",
       "      <td>63</td>\n",
       "      <td>45.0</td>\n",
       "      <td>0.0</td>\n",
       "      <td>1</td>\n",
       "      <td>36</td>\n",
       "    </tr>\n",
       "    <tr>\n",
       "      <th>2</th>\n",
       "      <td>7</td>\n",
       "      <td>1</td>\n",
       "      <td>1</td>\n",
       "      <td>10</td>\n",
       "      <td>52</td>\n",
       "      <td>63</td>\n",
       "      <td>21.0</td>\n",
       "      <td>0.0</td>\n",
       "      <td>1</td>\n",
       "      <td>21</td>\n",
       "    </tr>\n",
       "    <tr>\n",
       "      <th>3</th>\n",
       "      <td>7</td>\n",
       "      <td>1</td>\n",
       "      <td>1</td>\n",
       "      <td>10</td>\n",
       "      <td>89</td>\n",
       "      <td>118</td>\n",
       "      <td>11.0</td>\n",
       "      <td>0.0</td>\n",
       "      <td>0</td>\n",
       "      <td>30</td>\n",
       "    </tr>\n",
       "    <tr>\n",
       "      <th>4</th>\n",
       "      <td>7</td>\n",
       "      <td>1</td>\n",
       "      <td>1</td>\n",
       "      <td>10</td>\n",
       "      <td>5</td>\n",
       "      <td>79</td>\n",
       "      <td>10.0</td>\n",
       "      <td>0.0</td>\n",
       "      <td>1</td>\n",
       "      <td>33</td>\n",
       "    </tr>\n",
       "  </tbody>\n",
       "</table>\n",
       "</div>"
      ],
      "text/plain": [
       "   Agency  Agency Type  Distribution Channel  Product Name  Duration  \\\n",
       "0       7            1                     1            10        24   \n",
       "1       7            1                     1            10        51   \n",
       "2       7            1                     1            10        52   \n",
       "3       7            1                     1            10        89   \n",
       "4       7            1                     1            10         5   \n",
       "\n",
       "   Destination  Net Sales  Commision (in value)  Gender  Age  \n",
       "0           53       27.0                   0.0       1   36  \n",
       "1           63       45.0                   0.0       1   36  \n",
       "2           63       21.0                   0.0       1   21  \n",
       "3          118       11.0                   0.0       0   30  \n",
       "4           79       10.0                   0.0       1   33  "
      ]
     },
     "execution_count": 96,
     "metadata": {},
     "output_type": "execute_result"
    }
   ],
   "source": [
    "test_data.head()"
   ]
  },
  {
   "cell_type": "code",
   "execution_count": 97,
   "metadata": {},
   "outputs": [
    {
     "data": {
      "text/html": [
       "<div>\n",
       "<style scoped>\n",
       "    .dataframe tbody tr th:only-of-type {\n",
       "        vertical-align: middle;\n",
       "    }\n",
       "\n",
       "    .dataframe tbody tr th {\n",
       "        vertical-align: top;\n",
       "    }\n",
       "\n",
       "    .dataframe thead th {\n",
       "        text-align: right;\n",
       "    }\n",
       "</style>\n",
       "<table border=\"1\" class=\"dataframe\">\n",
       "  <thead>\n",
       "    <tr style=\"text-align: right;\">\n",
       "      <th></th>\n",
       "      <th>Agency</th>\n",
       "      <th>Agency Type</th>\n",
       "      <th>Distribution Channel</th>\n",
       "      <th>Product Name</th>\n",
       "      <th>Duration</th>\n",
       "      <th>Destination</th>\n",
       "      <th>Net Sales</th>\n",
       "      <th>Commision (in value)</th>\n",
       "      <th>Gender</th>\n",
       "      <th>Age</th>\n",
       "    </tr>\n",
       "  </thead>\n",
       "  <tbody>\n",
       "    <tr>\n",
       "      <th>min</th>\n",
       "      <td>0.0</td>\n",
       "      <td>0.0</td>\n",
       "      <td>0.0</td>\n",
       "      <td>0.0</td>\n",
       "      <td>-1.0</td>\n",
       "      <td>2.0</td>\n",
       "      <td>-357.5</td>\n",
       "      <td>0.0</td>\n",
       "      <td>0.0</td>\n",
       "      <td>1.0</td>\n",
       "    </tr>\n",
       "    <tr>\n",
       "      <th>max</th>\n",
       "      <td>15.0</td>\n",
       "      <td>1.0</td>\n",
       "      <td>1.0</td>\n",
       "      <td>25.0</td>\n",
       "      <td>4784.0</td>\n",
       "      <td>148.0</td>\n",
       "      <td>810.0</td>\n",
       "      <td>283.5</td>\n",
       "      <td>1.0</td>\n",
       "      <td>118.0</td>\n",
       "    </tr>\n",
       "  </tbody>\n",
       "</table>\n",
       "</div>"
      ],
      "text/plain": [
       "     Agency  Agency Type  Distribution Channel  Product Name  Duration  \\\n",
       "min     0.0          0.0                   0.0           0.0      -1.0   \n",
       "max    15.0          1.0                   1.0          25.0    4784.0   \n",
       "\n",
       "     Destination  Net Sales  Commision (in value)  Gender    Age  \n",
       "min          2.0     -357.5                   0.0     0.0    1.0  \n",
       "max        148.0      810.0                 283.5     1.0  118.0  "
      ]
     },
     "execution_count": 97,
     "metadata": {},
     "output_type": "execute_result"
    }
   ],
   "source": [
    "test_data.describe().loc[['min','max'],:]"
   ]
  },
  {
   "cell_type": "code",
   "execution_count": 98,
   "metadata": {},
   "outputs": [
    {
     "data": {
      "text/plain": [
       "1    8957\n",
       "0    6875\n",
       "Name: Gender, dtype: int64"
      ]
     },
     "execution_count": 98,
     "metadata": {},
     "output_type": "execute_result"
    }
   ],
   "source": [
    "test_data.Gender.value_counts()"
   ]
  },
  {
   "cell_type": "code",
   "execution_count": 99,
   "metadata": {},
   "outputs": [],
   "source": [
    "## Normalising using the previous used MinMaxScaler() object\n",
    "\n",
    "scaled_test_data = sc.transform(test_data)\n",
    "\n",
    "normalised_test_data = pd.DataFrame(scaled_test_data, columns=['Agency', 'Agency Type', 'Distribution Channel', 'Product Name', 'Duration', 'Destination', 'Net Sales', 'Commision (in value)', 'Gender', 'Age'])"
   ]
  },
  {
   "cell_type": "code",
   "execution_count": 100,
   "metadata": {},
   "outputs": [
    {
     "data": {
      "text/html": [
       "<div>\n",
       "<style scoped>\n",
       "    .dataframe tbody tr th:only-of-type {\n",
       "        vertical-align: middle;\n",
       "    }\n",
       "\n",
       "    .dataframe tbody tr th {\n",
       "        vertical-align: top;\n",
       "    }\n",
       "\n",
       "    .dataframe thead th {\n",
       "        text-align: right;\n",
       "    }\n",
       "</style>\n",
       "<table border=\"1\" class=\"dataframe\">\n",
       "  <thead>\n",
       "    <tr style=\"text-align: right;\">\n",
       "      <th></th>\n",
       "      <th>Agency</th>\n",
       "      <th>Agency Type</th>\n",
       "      <th>Distribution Channel</th>\n",
       "      <th>Product Name</th>\n",
       "      <th>Duration</th>\n",
       "      <th>Destination</th>\n",
       "      <th>Net Sales</th>\n",
       "      <th>Commision (in value)</th>\n",
       "      <th>Gender</th>\n",
       "      <th>Age</th>\n",
       "    </tr>\n",
       "  </thead>\n",
       "  <tbody>\n",
       "    <tr>\n",
       "      <th>0</th>\n",
       "      <td>0.461538</td>\n",
       "      <td>1.0</td>\n",
       "      <td>1.0</td>\n",
       "      <td>0.40</td>\n",
       "      <td>0.201681</td>\n",
       "      <td>0.358108</td>\n",
       "      <td>0.450000</td>\n",
       "      <td>0.000000</td>\n",
       "      <td>1.0</td>\n",
       "      <td>0.40625</td>\n",
       "    </tr>\n",
       "    <tr>\n",
       "      <th>1</th>\n",
       "      <td>0.461538</td>\n",
       "      <td>1.0</td>\n",
       "      <td>1.0</td>\n",
       "      <td>0.40</td>\n",
       "      <td>0.428571</td>\n",
       "      <td>0.425676</td>\n",
       "      <td>0.600000</td>\n",
       "      <td>0.000000</td>\n",
       "      <td>1.0</td>\n",
       "      <td>0.40625</td>\n",
       "    </tr>\n",
       "    <tr>\n",
       "      <th>2</th>\n",
       "      <td>0.461538</td>\n",
       "      <td>1.0</td>\n",
       "      <td>1.0</td>\n",
       "      <td>0.40</td>\n",
       "      <td>0.436975</td>\n",
       "      <td>0.425676</td>\n",
       "      <td>0.400000</td>\n",
       "      <td>0.000000</td>\n",
       "      <td>1.0</td>\n",
       "      <td>-0.06250</td>\n",
       "    </tr>\n",
       "    <tr>\n",
       "      <th>3</th>\n",
       "      <td>0.461538</td>\n",
       "      <td>1.0</td>\n",
       "      <td>1.0</td>\n",
       "      <td>0.40</td>\n",
       "      <td>0.747899</td>\n",
       "      <td>0.797297</td>\n",
       "      <td>0.316667</td>\n",
       "      <td>0.000000</td>\n",
       "      <td>0.0</td>\n",
       "      <td>0.21875</td>\n",
       "    </tr>\n",
       "    <tr>\n",
       "      <th>4</th>\n",
       "      <td>0.461538</td>\n",
       "      <td>1.0</td>\n",
       "      <td>1.0</td>\n",
       "      <td>0.40</td>\n",
       "      <td>0.042017</td>\n",
       "      <td>0.533784</td>\n",
       "      <td>0.308333</td>\n",
       "      <td>0.000000</td>\n",
       "      <td>1.0</td>\n",
       "      <td>0.31250</td>\n",
       "    </tr>\n",
       "    <tr>\n",
       "      <th>...</th>\n",
       "      <td>...</td>\n",
       "      <td>...</td>\n",
       "      <td>...</td>\n",
       "      <td>...</td>\n",
       "      <td>...</td>\n",
       "      <td>...</td>\n",
       "      <td>...</td>\n",
       "      <td>...</td>\n",
       "      <td>...</td>\n",
       "      <td>...</td>\n",
       "    </tr>\n",
       "    <tr>\n",
       "      <th>15827</th>\n",
       "      <td>0.461538</td>\n",
       "      <td>1.0</td>\n",
       "      <td>1.0</td>\n",
       "      <td>0.04</td>\n",
       "      <td>0.033613</td>\n",
       "      <td>0.533784</td>\n",
       "      <td>0.433333</td>\n",
       "      <td>0.000000</td>\n",
       "      <td>0.0</td>\n",
       "      <td>0.62500</td>\n",
       "    </tr>\n",
       "    <tr>\n",
       "      <th>15828</th>\n",
       "      <td>0.076923</td>\n",
       "      <td>0.0</td>\n",
       "      <td>1.0</td>\n",
       "      <td>0.16</td>\n",
       "      <td>3.436975</td>\n",
       "      <td>0.797297</td>\n",
       "      <td>2.332083</td>\n",
       "      <td>2.175904</td>\n",
       "      <td>0.0</td>\n",
       "      <td>-0.09375</td>\n",
       "    </tr>\n",
       "    <tr>\n",
       "      <th>15829</th>\n",
       "      <td>0.538462</td>\n",
       "      <td>0.0</td>\n",
       "      <td>1.0</td>\n",
       "      <td>1.00</td>\n",
       "      <td>0.453782</td>\n",
       "      <td>0.378378</td>\n",
       "      <td>0.483333</td>\n",
       "      <td>0.426850</td>\n",
       "      <td>0.0</td>\n",
       "      <td>2.96875</td>\n",
       "    </tr>\n",
       "    <tr>\n",
       "      <th>15830</th>\n",
       "      <td>0.384615</td>\n",
       "      <td>1.0</td>\n",
       "      <td>1.0</td>\n",
       "      <td>0.64</td>\n",
       "      <td>0.252101</td>\n",
       "      <td>0.932432</td>\n",
       "      <td>0.225000</td>\n",
       "      <td>0.408950</td>\n",
       "      <td>1.0</td>\n",
       "      <td>0.25000</td>\n",
       "    </tr>\n",
       "    <tr>\n",
       "      <th>15831</th>\n",
       "      <td>0.461538</td>\n",
       "      <td>1.0</td>\n",
       "      <td>1.0</td>\n",
       "      <td>0.04</td>\n",
       "      <td>0.663866</td>\n",
       "      <td>0.689189</td>\n",
       "      <td>0.225000</td>\n",
       "      <td>0.000000</td>\n",
       "      <td>0.0</td>\n",
       "      <td>0.40625</td>\n",
       "    </tr>\n",
       "  </tbody>\n",
       "</table>\n",
       "<p>15832 rows × 10 columns</p>\n",
       "</div>"
      ],
      "text/plain": [
       "         Agency  Agency Type  Distribution Channel  Product Name  Duration  \\\n",
       "0      0.461538          1.0                   1.0          0.40  0.201681   \n",
       "1      0.461538          1.0                   1.0          0.40  0.428571   \n",
       "2      0.461538          1.0                   1.0          0.40  0.436975   \n",
       "3      0.461538          1.0                   1.0          0.40  0.747899   \n",
       "4      0.461538          1.0                   1.0          0.40  0.042017   \n",
       "...         ...          ...                   ...           ...       ...   \n",
       "15827  0.461538          1.0                   1.0          0.04  0.033613   \n",
       "15828  0.076923          0.0                   1.0          0.16  3.436975   \n",
       "15829  0.538462          0.0                   1.0          1.00  0.453782   \n",
       "15830  0.384615          1.0                   1.0          0.64  0.252101   \n",
       "15831  0.461538          1.0                   1.0          0.04  0.663866   \n",
       "\n",
       "       Destination  Net Sales  Commision (in value)  Gender      Age  \n",
       "0         0.358108   0.450000              0.000000     1.0  0.40625  \n",
       "1         0.425676   0.600000              0.000000     1.0  0.40625  \n",
       "2         0.425676   0.400000              0.000000     1.0 -0.06250  \n",
       "3         0.797297   0.316667              0.000000     0.0  0.21875  \n",
       "4         0.533784   0.308333              0.000000     1.0  0.31250  \n",
       "...            ...        ...                   ...     ...      ...  \n",
       "15827     0.533784   0.433333              0.000000     0.0  0.62500  \n",
       "15828     0.797297   2.332083              2.175904     0.0 -0.09375  \n",
       "15829     0.378378   0.483333              0.426850     0.0  2.96875  \n",
       "15830     0.932432   0.225000              0.408950     1.0  0.25000  \n",
       "15831     0.689189   0.225000              0.000000     0.0  0.40625  \n",
       "\n",
       "[15832 rows x 10 columns]"
      ]
     },
     "execution_count": 100,
     "metadata": {},
     "output_type": "execute_result"
    }
   ],
   "source": [
    "normalised_test_data"
   ]
  },
  {
   "cell_type": "code",
   "execution_count": 101,
   "metadata": {},
   "outputs": [],
   "source": [
    "target = clf.predict(normalised_test_data)"
   ]
  },
  {
   "cell_type": "code",
   "execution_count": 102,
   "metadata": {},
   "outputs": [
    {
     "data": {
      "text/plain": [
       "Counter({0.0: 15728, 1.0: 104})"
      ]
     },
     "execution_count": 102,
     "metadata": {},
     "output_type": "execute_result"
    }
   ],
   "source": [
    "from collections import Counter\n",
    "Counter(target)"
   ]
  },
  {
   "cell_type": "code",
   "execution_count": 103,
   "metadata": {},
   "outputs": [],
   "source": [
    "\n",
    "res = pd.DataFrame(target.astype('int')) #preditcions are nothing but the final predictions of your model on input features of your new unseen test data\n",
    "res.index = test_data.index # its important for comparison. Here \"test_new\" is your new test dataset\n",
    "res.columns = [\"prediction\"]\n",
    "res.to_csv(\"prediction_results.csv\", index = False)      # the csv file will be saved locally on the same location where this notebook is located."
   ]
  },
  {
   "cell_type": "code",
   "execution_count": 104,
   "metadata": {},
   "outputs": [
    {
     "name": "stdout",
     "output_type": "stream",
     "text": [
      "[0. 0. 0. ... 0. 0. 0.]\n"
     ]
    }
   ],
   "source": [
    "print(target)"
   ]
  },
  {
   "cell_type": "code",
   "execution_count": null,
   "metadata": {},
   "outputs": [],
   "source": []
  },
  {
   "cell_type": "markdown",
   "metadata": {},
   "source": [
    "#### Mistake: Should have appended both data and test_data first and then done the label encoding and normalization.\n",
    "Correct Procedure:\n",
    "* Load both datasets\n",
    "* pd.concat both\n",
    "* label encoding\n",
    "* imputation - see custom function (taken from stackoverflow)\n",
    "* Do not eliminate outlier!\n",
    "* Normalize\n",
    "* Separate data and test_data\n",
    "* splitting data into X_train, Y_train, X_test, Y_test\n",
    "* Running classification models on them\n",
    "* selction of model (in this case, RandomForestClassifier)\n",
    "* use the same trained model to predict the claim column for test_data"
   ]
  }
 ],
 "metadata": {
  "kernelspec": {
   "display_name": "Python 3",
   "language": "python",
   "name": "python3"
  },
  "language_info": {
   "codemirror_mode": {
    "name": "ipython",
    "version": 3
   },
   "file_extension": ".py",
   "mimetype": "text/x-python",
   "name": "python",
   "nbconvert_exporter": "python",
   "pygments_lexer": "ipython3",
   "version": "3.8.3"
  }
 },
 "nbformat": 4,
 "nbformat_minor": 4
}
